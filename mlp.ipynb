{
 "cells": [
  {
   "cell_type": "code",
   "execution_count": 1,
   "metadata": {},
   "outputs": [],
   "source": [
    "import torch\n",
    "import torch.nn.functional as F\n",
    "import matplotlib.pyplot as plt\n",
    "%matplotlib inline"
   ]
  },
  {
   "cell_type": "code",
   "execution_count": 2,
   "metadata": {},
   "outputs": [
    {
     "data": {
      "text/plain": [
       "['emma', 'olivia', 'ava', 'isabella', 'sophia', 'charlotte', 'mia', 'amelia']"
      ]
     },
     "execution_count": 2,
     "metadata": {},
     "output_type": "execute_result"
    }
   ],
   "source": [
    "words = open(\"names.txt\",\"r\").read().splitlines()\n",
    "words[:8]"
   ]
  },
  {
   "cell_type": "code",
   "execution_count": 3,
   "metadata": {},
   "outputs": [
    {
     "data": {
      "text/plain": [
       "32033"
      ]
     },
     "execution_count": 3,
     "metadata": {},
     "output_type": "execute_result"
    }
   ],
   "source": [
    "len(words)"
   ]
  },
  {
   "cell_type": "code",
   "execution_count": 4,
   "metadata": {},
   "outputs": [
    {
     "name": "stdout",
     "output_type": "stream",
     "text": [
      "{1: 'a', 2: 'b', 3: 'c', 4: 'd', 5: 'e', 6: 'f', 7: 'g', 8: 'h', 9: 'i', 10: 'j', 11: 'k', 12: 'l', 13: 'm', 14: 'n', 15: 'o', 16: 'p', 17: 'q', 18: 'r', 19: 's', 20: 't', 21: 'u', 22: 'v', 23: 'w', 24: 'x', 25: 'y', 26: 'z', 0: '.'}\n"
     ]
    }
   ],
   "source": [
    "chars = sorted(list(set(\"\".join(words))))\n",
    "stoi = {s:i+1 for i,s  in enumerate(chars)}\n",
    "stoi['.'] = 0\n",
    "itos = {i:s for s,i in stoi.items()}\n",
    "print(itos)"
   ]
  },
  {
   "cell_type": "code",
   "execution_count": 5,
   "metadata": {},
   "outputs": [
    {
     "name": "stdout",
     "output_type": "stream",
     "text": [
      "emma\n",
      "... ---> e\n",
      "..e ---> m\n",
      ".em ---> m\n",
      "emm ---> a\n",
      "mma ---> .\n",
      "olivia\n",
      "... ---> o\n",
      "..o ---> l\n",
      ".ol ---> i\n",
      "oli ---> v\n",
      "liv ---> i\n",
      "ivi ---> a\n",
      "via ---> .\n",
      "ava\n",
      "... ---> a\n",
      "..a ---> v\n",
      ".av ---> a\n",
      "ava ---> .\n",
      "isabella\n",
      "... ---> i\n",
      "..i ---> s\n",
      ".is ---> a\n",
      "isa ---> b\n",
      "sab ---> e\n",
      "abe ---> l\n",
      "bel ---> l\n",
      "ell ---> a\n",
      "lla ---> .\n",
      "sophia\n",
      "... ---> s\n",
      "..s ---> o\n",
      ".so ---> p\n",
      "sop ---> h\n",
      "oph ---> i\n",
      "phi ---> a\n",
      "hia ---> .\n"
     ]
    }
   ],
   "source": [
    "block_size = 3\n",
    "X, Y = [], []\n",
    "for w in words[:5]:\n",
    "\n",
    "    print(w)\n",
    "    context = [0] * block_size\n",
    "    for ch in w + \".\":\n",
    "        ix = stoi[ch]\n",
    "        X.append(context)\n",
    "        Y.append(ix)\n",
    "        print(\"\".join(itos[i] for i in context), '--->',itos[ix])\n",
    "        context = context[1:] + [ix]\n",
    "X = torch.tensor(X)\n",
    "Y = torch.tensor(Y)"
   ]
  },
  {
   "cell_type": "code",
   "execution_count": 6,
   "metadata": {},
   "outputs": [
    {
     "data": {
      "text/plain": [
       "(torch.Size([32, 3]), torch.int64, torch.Size([32]), torch.int64)"
      ]
     },
     "execution_count": 6,
     "metadata": {},
     "output_type": "execute_result"
    }
   ],
   "source": [
    "X.shape, X.dtype, Y.shape, Y.dtype"
   ]
  },
  {
   "cell_type": "code",
   "execution_count": 7,
   "metadata": {},
   "outputs": [
    {
     "data": {
      "text/plain": [
       "tensor([[-0.6730, -2.1028],\n",
       "        [-1.6035,  1.5879],\n",
       "        [-2.1942, -0.2091],\n",
       "        [ 0.3731,  0.7595],\n",
       "        [ 1.0398, -1.2324],\n",
       "        [-1.0112,  1.1717],\n",
       "        [-0.0911,  0.5799],\n",
       "        [ 0.7830, -0.5607],\n",
       "        [ 0.1367,  0.8253],\n",
       "        [-0.2522, -0.4180],\n",
       "        [-0.3062,  2.2597],\n",
       "        [ 2.1389, -0.6053],\n",
       "        [ 0.0137, -0.8261],\n",
       "        [ 0.6096, -0.8521],\n",
       "        [-0.9035, -0.0708],\n",
       "        [-1.8554,  0.4508],\n",
       "        [-0.7662,  0.6710],\n",
       "        [ 0.4381, -1.1271],\n",
       "        [ 0.0888,  1.2787],\n",
       "        [ 0.2288, -0.7244],\n",
       "        [ 1.7223, -0.7271],\n",
       "        [-0.5320, -0.4143],\n",
       "        [-0.7940,  0.0857],\n",
       "        [-0.6507,  2.2561],\n",
       "        [ 0.2209, -1.4854],\n",
       "        [-2.7979, -0.5124],\n",
       "        [ 2.2532, -0.2082]])"
      ]
     },
     "execution_count": 7,
     "metadata": {},
     "output_type": "execute_result"
    }
   ],
   "source": [
    "C = torch.randn((27,2)) # each character has a 2 demensional vector associated with it\n",
    "C"
   ]
  },
  {
   "cell_type": "code",
   "execution_count": 8,
   "metadata": {},
   "outputs": [
    {
     "data": {
      "text/plain": [
       "tensor([-1.0112,  1.1717])"
      ]
     },
     "execution_count": 8,
     "metadata": {},
     "output_type": "execute_result"
    }
   ],
   "source": [
    "C[5]"
   ]
  },
  {
   "cell_type": "code",
   "execution_count": 9,
   "metadata": {},
   "outputs": [
    {
     "data": {
      "text/plain": [
       "tensor([0, 0, 0, 0, 0, 1, 0, 0, 0, 0, 0, 0, 0, 0, 0, 0, 0, 0, 0, 0, 0, 0, 0, 0,\n",
       "        0, 0, 0])"
      ]
     },
     "execution_count": 9,
     "metadata": {},
     "output_type": "execute_result"
    }
   ],
   "source": [
    "F.one_hot(torch.tensor(5), num_classes=27)"
   ]
  },
  {
   "cell_type": "code",
   "execution_count": 10,
   "metadata": {},
   "outputs": [
    {
     "ename": "RuntimeError",
     "evalue": "expected m1 and m2 to have the same dtype, but got: long long != float",
     "output_type": "error",
     "traceback": [
      "\u001b[0;31m---------------------------------------------------------------------------\u001b[0m",
      "\u001b[0;31mRuntimeError\u001b[0m                              Traceback (most recent call last)",
      "Cell \u001b[0;32mIn[10], line 1\u001b[0m\n\u001b[0;32m----> 1\u001b[0m \u001b[43mF\u001b[49m\u001b[38;5;241;43m.\u001b[39;49m\u001b[43mone_hot\u001b[49m\u001b[43m(\u001b[49m\u001b[43mtorch\u001b[49m\u001b[38;5;241;43m.\u001b[39;49m\u001b[43mtensor\u001b[49m\u001b[43m(\u001b[49m\u001b[38;5;241;43m5\u001b[39;49m\u001b[43m)\u001b[49m\u001b[43m,\u001b[49m\u001b[43m \u001b[49m\u001b[43mnum_classes\u001b[49m\u001b[38;5;241;43m=\u001b[39;49m\u001b[38;5;241;43m27\u001b[39;49m\u001b[43m)\u001b[49m\u001b[43m \u001b[49m\u001b[38;5;241;43m@\u001b[39;49m\u001b[43m \u001b[49m\u001b[43mC\u001b[49m\n",
      "\u001b[0;31mRuntimeError\u001b[0m: expected m1 and m2 to have the same dtype, but got: long long != float"
     ]
    }
   ],
   "source": [
    "F.one_hot(torch.tensor(5), num_classes=27) @ C"
   ]
  },
  {
   "cell_type": "code",
   "execution_count": null,
   "metadata": {},
   "outputs": [
    {
     "data": {
      "text/plain": [
       "tensor([1.9015, 1.0317])"
      ]
     },
     "execution_count": 15,
     "metadata": {},
     "output_type": "execute_result"
    }
   ],
   "source": [
    "F.one_hot(torch.tensor(5), num_classes=27).float() @ C # same as C[5] since all other classes are zero except 5 which is 1\n",
    "# this is also the first layer of the network, this is the embedding layer"
   ]
  },
  {
   "cell_type": "code",
   "execution_count": null,
   "metadata": {},
   "outputs": [
    {
     "data": {
      "text/plain": [
       "(tensor([[ 1.9015,  1.0317],\n",
       "         [ 0.3506, -0.1688],\n",
       "         [ 0.7410, -2.2207]]),\n",
       " tensor([[ 1.9015,  1.0317],\n",
       "         [ 0.3506, -0.1688],\n",
       "         [ 0.7410, -2.2207]]))"
      ]
     },
     "execution_count": 17,
     "metadata": {},
     "output_type": "execute_result"
    }
   ],
   "source": [
    "C[[5,6,7]],C[torch.tensor([5,6,7])]"
   ]
  },
  {
   "cell_type": "code",
   "execution_count": null,
   "metadata": {},
   "outputs": [
    {
     "data": {
      "text/plain": [
       "torch.Size([32, 3, 2])"
      ]
     },
     "execution_count": 19,
     "metadata": {},
     "output_type": "execute_result"
    }
   ],
   "source": [
    "C[X].shape"
   ]
  },
  {
   "cell_type": "code",
   "execution_count": null,
   "metadata": {},
   "outputs": [
    {
     "data": {
      "text/plain": [
       "tensor([-1.6077, -1.0612])"
      ]
     },
     "execution_count": 21,
     "metadata": {},
     "output_type": "execute_result"
    }
   ],
   "source": [
    "C[X][13,2]"
   ]
  },
  {
   "cell_type": "code",
   "execution_count": null,
   "metadata": {},
   "outputs": [
    {
     "data": {
      "text/plain": [
       "tensor([-1.6077, -1.0612])"
      ]
     },
     "execution_count": 22,
     "metadata": {},
     "output_type": "execute_result"
    }
   ],
   "source": [
    "C[1]"
   ]
  },
  {
   "cell_type": "code",
   "execution_count": null,
   "metadata": {},
   "outputs": [
    {
     "data": {
      "text/plain": [
       "torch.Size([32, 3, 2])"
      ]
     },
     "execution_count": 51,
     "metadata": {},
     "output_type": "execute_result"
    }
   ],
   "source": [
    "emb = C[X] # this is our entire embedding of the dataset\n",
    "emb.shape"
   ]
  },
  {
   "cell_type": "code",
   "execution_count": null,
   "metadata": {},
   "outputs": [],
   "source": [
    "# hidden layer\n",
    "W1 = torch.randn((6,100))\n",
    "b1 = torch.randn(100)\n"
   ]
  },
  {
   "cell_type": "code",
   "execution_count": null,
   "metadata": {},
   "outputs": [
    {
     "ename": "RuntimeError",
     "evalue": "mat1 and mat2 shapes cannot be multiplied (96x2 and 6x100)",
     "output_type": "error",
     "traceback": [
      "\u001b[0;31m---------------------------------------------------------------------------\u001b[0m",
      "\u001b[0;31mRuntimeError\u001b[0m                              Traceback (most recent call last)",
      "Cell \u001b[0;32mIn[25], line 2\u001b[0m\n\u001b[1;32m      1\u001b[0m \u001b[38;5;66;03m# we want to do the following but need to transform the data first\u001b[39;00m\n\u001b[0;32m----> 2\u001b[0m \u001b[43memb\u001b[49m\u001b[43m \u001b[49m\u001b[38;5;241;43m@\u001b[39;49m\u001b[43m \u001b[49m\u001b[43mW1\u001b[49m \u001b[38;5;241m+\u001b[39m b1\n",
      "\u001b[0;31mRuntimeError\u001b[0m: mat1 and mat2 shapes cannot be multiplied (96x2 and 6x100)"
     ]
    }
   ],
   "source": [
    "# we want to do the following but need to transform the data first\n",
    "emb @ W1 + b1"
   ]
  },
  {
   "cell_type": "code",
   "execution_count": null,
   "metadata": {},
   "outputs": [
    {
     "data": {
      "text/plain": [
       "torch.Size([32, 6])"
      ]
     },
     "execution_count": 37,
     "metadata": {},
     "output_type": "execute_result"
    }
   ],
   "source": [
    "torch.cat([emb[:,0,:],emb[:,1,:],emb[:,2,:]],1).shape \n",
    "# [[...],[...],[...]] to [[.........]] squishing on a single dem"
   ]
  },
  {
   "cell_type": "code",
   "execution_count": null,
   "metadata": {},
   "outputs": [
    {
     "data": {
      "text/plain": [
       "torch.Size([32, 6])"
      ]
     },
     "execution_count": 39,
     "metadata": {},
     "output_type": "execute_result"
    }
   ],
   "source": [
    "torch.cat(torch.unbind(emb,1),1).shape # same as cell before"
   ]
  },
  {
   "cell_type": "code",
   "execution_count": null,
   "metadata": {},
   "outputs": [
    {
     "data": {
      "text/plain": [
       "torch.Size([18])"
      ]
     },
     "execution_count": 40,
     "metadata": {},
     "output_type": "execute_result"
    }
   ],
   "source": [
    "a = torch.arange(18)\n",
    "a.shape"
   ]
  },
  {
   "cell_type": "code",
   "execution_count": null,
   "metadata": {},
   "outputs": [
    {
     "data": {
      "text/plain": [
       "tensor([[ 0,  1,  2,  3,  4,  5,  6,  7,  8],\n",
       "        [ 9, 10, 11, 12, 13, 14, 15, 16, 17]])"
      ]
     },
     "execution_count": 41,
     "metadata": {},
     "output_type": "execute_result"
    }
   ],
   "source": [
    "a.view(2,9)"
   ]
  },
  {
   "cell_type": "code",
   "execution_count": null,
   "metadata": {},
   "outputs": [
    {
     "data": {
      "text/plain": [
       "tensor([[[ 0,  1],\n",
       "         [ 2,  3],\n",
       "         [ 4,  5]],\n",
       "\n",
       "        [[ 6,  7],\n",
       "         [ 8,  9],\n",
       "         [10, 11]],\n",
       "\n",
       "        [[12, 13],\n",
       "         [14, 15],\n",
       "         [16, 17]]])"
      ]
     },
     "execution_count": 42,
     "metadata": {},
     "output_type": "execute_result"
    }
   ],
   "source": [
    "a.view(3,3,2)"
   ]
  },
  {
   "cell_type": "code",
   "execution_count": null,
   "metadata": {},
   "outputs": [],
   "source": [
    "# as long as the number of element we have multiply to the same number (same number of elements) we can rearange them in pytorch without a performance hit"
   ]
  },
  {
   "cell_type": "code",
   "execution_count": null,
   "metadata": {},
   "outputs": [
    {
     "data": {
      "text/plain": [
       " 0\n",
       " 1\n",
       " 2\n",
       " 3\n",
       " 4\n",
       " 5\n",
       " 6\n",
       " 7\n",
       " 8\n",
       " 9\n",
       " 10\n",
       " 11\n",
       " 12\n",
       " 13\n",
       " 14\n",
       " 15\n",
       " 16\n",
       " 17\n",
       "[torch.storage.TypedStorage(dtype=torch.int64, device=cpu) of size 18]"
      ]
     },
     "execution_count": 45,
     "metadata": {},
     "output_type": "execute_result"
    }
   ],
   "source": [
    "a.storage()\n",
    "# always a 1 deminsional vector. view changes attributes of the view. storage offsets,strides, and shapes\n",
    "# http://blog.ezyang.com/2019/05/pytorch-internals/"
   ]
  },
  {
   "cell_type": "code",
   "execution_count": null,
   "metadata": {},
   "outputs": [
    {
     "data": {
      "text/plain": [
       "torch.Size([32, 6])"
      ]
     },
     "execution_count": 47,
     "metadata": {},
     "output_type": "execute_result"
    }
   ],
   "source": [
    "emb.view(32,6).shape # same as unbind/concat "
   ]
  },
  {
   "cell_type": "code",
   "execution_count": null,
   "metadata": {},
   "outputs": [
    {
     "data": {
      "text/plain": [
       "tensor([[True, True, True, True, True, True],\n",
       "        [True, True, True, True, True, True],\n",
       "        [True, True, True, True, True, True],\n",
       "        [True, True, True, True, True, True],\n",
       "        [True, True, True, True, True, True],\n",
       "        [True, True, True, True, True, True],\n",
       "        [True, True, True, True, True, True],\n",
       "        [True, True, True, True, True, True],\n",
       "        [True, True, True, True, True, True],\n",
       "        [True, True, True, True, True, True],\n",
       "        [True, True, True, True, True, True],\n",
       "        [True, True, True, True, True, True],\n",
       "        [True, True, True, True, True, True],\n",
       "        [True, True, True, True, True, True],\n",
       "        [True, True, True, True, True, True],\n",
       "        [True, True, True, True, True, True],\n",
       "        [True, True, True, True, True, True],\n",
       "        [True, True, True, True, True, True],\n",
       "        [True, True, True, True, True, True],\n",
       "        [True, True, True, True, True, True],\n",
       "        [True, True, True, True, True, True],\n",
       "        [True, True, True, True, True, True],\n",
       "        [True, True, True, True, True, True],\n",
       "        [True, True, True, True, True, True],\n",
       "        [True, True, True, True, True, True],\n",
       "        [True, True, True, True, True, True],\n",
       "        [True, True, True, True, True, True],\n",
       "        [True, True, True, True, True, True],\n",
       "        [True, True, True, True, True, True],\n",
       "        [True, True, True, True, True, True],\n",
       "        [True, True, True, True, True, True],\n",
       "        [True, True, True, True, True, True]])"
      ]
     },
     "execution_count": 48,
     "metadata": {},
     "output_type": "execute_result"
    }
   ],
   "source": [
    "emb.view(32,6) == torch.cat(torch.unbind(emb,1),1)"
   ]
  },
  {
   "cell_type": "code",
   "execution_count": null,
   "metadata": {},
   "outputs": [],
   "source": [
    "h = torch.tanh(emb.view(-1,6) @ W1 + b1) # tanh is the hyperbolic tangent and is a layer in the model"
   ]
  },
  {
   "cell_type": "code",
   "execution_count": null,
   "metadata": {},
   "outputs": [
    {
     "data": {
      "text/plain": [
       "(torch.Size([32, 100]),\n",
       " tensor([[-0.0350,  0.9344,  0.4962,  ...,  0.3227,  0.9961, -0.9968],\n",
       "         [ 0.3398,  0.9515, -0.8996,  ..., -0.4084,  1.0000, -0.9933],\n",
       "         [ 0.7803,  0.9866,  0.9188,  ...,  0.8610,  1.0000, -0.9968],\n",
       "         ...,\n",
       "         [ 0.9827,  0.8388,  0.3665,  ...,  0.9870, -0.9999,  0.2154],\n",
       "         [ 0.8740, -0.9956,  0.4583,  ...,  0.9984,  0.9998,  0.9988],\n",
       "         [ 0.7991,  0.9019,  0.9619,  ...,  0.9995, -0.9655,  0.9958]]))"
      ]
     },
     "execution_count": 59,
     "metadata": {},
     "output_type": "execute_result"
    }
   ],
   "source": [
    "h.shape,h"
   ]
  },
  {
   "cell_type": "code",
   "execution_count": null,
   "metadata": {},
   "outputs": [],
   "source": [
    "# 32, 100\n",
    "# (1), 100\n",
    "# this is correct sense the same bias vector will be added to all of the rows. rows that represent each example"
   ]
  },
  {
   "cell_type": "code",
   "execution_count": null,
   "metadata": {},
   "outputs": [],
   "source": [
    "W2 = torch.randn((100,27))\n",
    "b2 = torch.randn(27)"
   ]
  },
  {
   "cell_type": "code",
   "execution_count": null,
   "metadata": {},
   "outputs": [],
   "source": [
    "logits = h @ W2 + b2"
   ]
  },
  {
   "cell_type": "code",
   "execution_count": null,
   "metadata": {},
   "outputs": [
    {
     "data": {
      "text/plain": [
       "torch.Size([32, 27])"
      ]
     },
     "execution_count": 63,
     "metadata": {},
     "output_type": "execute_result"
    }
   ],
   "source": [
    "logits.shape"
   ]
  },
  {
   "cell_type": "code",
   "execution_count": null,
   "metadata": {},
   "outputs": [],
   "source": [
    "counts = logits.exp()"
   ]
  },
  {
   "cell_type": "code",
   "execution_count": null,
   "metadata": {},
   "outputs": [],
   "source": [
    "prob = counts / counts.sum(1, keepdim=True)"
   ]
  },
  {
   "cell_type": "code",
   "execution_count": null,
   "metadata": {},
   "outputs": [
    {
     "data": {
      "text/plain": [
       "tensor([1.3388e-12, 6.6873e-05, 4.0229e-07, 2.9036e-14, 1.3801e-11, 1.1539e-11,\n",
       "        1.0099e-08, 4.2494e-05, 3.5720e-04, 3.6690e-07, 1.2854e-08, 2.0241e-08,\n",
       "        1.8174e-14, 2.7504e-05, 6.2045e-04, 9.6068e-18, 2.2813e-08, 2.8963e-12,\n",
       "        1.2628e-12, 9.4584e-07, 4.8519e-01, 9.1349e-07, 2.2580e-12, 3.1594e-11,\n",
       "        1.1077e-11, 1.0857e-06, 3.3201e-09, 4.9162e-16, 1.1559e-09, 2.2492e-15,\n",
       "        7.5328e-08, 3.1700e-09])"
      ]
     },
     "execution_count": 66,
     "metadata": {},
     "output_type": "execute_result"
    }
   ],
   "source": [
    "prob[torch.arange(32),Y] # this gives the current probabilities as currently assigned by the model"
   ]
  },
  {
   "cell_type": "code",
   "execution_count": null,
   "metadata": {},
   "outputs": [
    {
     "data": {
      "text/plain": [
       "tensor(20.1229)"
      ]
     },
     "execution_count": 68,
     "metadata": {},
     "output_type": "execute_result"
    }
   ],
   "source": [
    "-prob[torch.arange(32),Y].log().mean() # negative log likihood, which we want to minimize"
   ]
  },
  {
   "cell_type": "code",
   "execution_count": null,
   "metadata": {},
   "outputs": [],
   "source": [
    "# --- rewritten ---"
   ]
  },
  {
   "cell_type": "code",
   "execution_count": null,
   "metadata": {},
   "outputs": [],
   "source": [
    "g = torch.Generator().manual_seed(2147483647)\n",
    "C = torch.randn((27,2),generator=g)\n",
    "W1 = torch.randn((6,100), generator=g)\n",
    "b1 = torch.randn(100,generator=g)\n",
    "W2 = torch.randn((100,27),generator=g)\n",
    "b2 = torch.randn(27,generator=g)\n",
    "parameters = [C, W1,b1,W2,b2]\n",
    "for p in parameters:\n",
    "    p.requires_grad = True\n",
    " "
   ]
  },
  {
   "cell_type": "code",
   "execution_count": null,
   "metadata": {},
   "outputs": [
    {
     "data": {
      "text/plain": [
       "3481"
      ]
     },
     "execution_count": 76,
     "metadata": {},
     "output_type": "execute_result"
    }
   ],
   "source": [
    "sum(p.nelement() for p in parameters)"
   ]
  },
  {
   "cell_type": "code",
   "execution_count": null,
   "metadata": {},
   "outputs": [
    {
     "data": {
      "text/plain": [
       "tensor(17.7697)"
      ]
     },
     "execution_count": 80,
     "metadata": {},
     "output_type": "execute_result"
    }
   ],
   "source": [
    "# forward pass\n",
    "emb = C[X] # [32, 3, 2]\n",
    "h = torch.tanh(emb.view(-1,6) @ W1 + b1) # (32, 100)\n",
    "logits = h @ W2 + b2 \n",
    "# counts = logits.exp()\n",
    "# prob = counts / counts.sum(1, keepdim=True)\n",
    "# loss = -prob[torch.arange(32),Y].log().mean()\n",
    "loss = F.cross_entropy(logits,Y)\n",
    "loss"
   ]
  },
  {
   "cell_type": "code",
   "execution_count": null,
   "metadata": {},
   "outputs": [
    {
     "data": {
      "text/plain": [
       "tensor(17.7697)"
      ]
     },
     "execution_count": 79,
     "metadata": {},
     "output_type": "execute_result"
    }
   ],
   "source": [
    "# now even more respectible \n",
    "F.cross_entropy(logits,Y) # this is one you'd actually use in practice. previous way was educational\n",
    "# easier to backwards pass and far more efficent \n",
    "# things can be much more well behaived. Example was that pytorch uses techiques to avoid float overflows due to very large postive numbers\n"
   ]
  },
  {
   "cell_type": "code",
   "execution_count": null,
   "metadata": {},
   "outputs": [
    {
     "name": "stdout",
     "output_type": "stream",
     "text": [
      "0.30458712577819824\n",
      "0.3038754165172577\n",
      "0.3031821548938751\n",
      "0.3025068938732147\n",
      "0.3018488883972168\n",
      "0.30120763182640076\n",
      "0.30058249831199646\n",
      "0.2999732792377472\n",
      "0.2993791103363037\n",
      "0.29879963397979736\n",
      "0.2982342839241028\n",
      "0.2976827621459961\n",
      "0.29714435338974\n",
      "0.2966187000274658\n",
      "0.29610541462898254\n",
      "0.2956041097640991\n",
      "0.2951143682003021\n",
      "0.2946356236934662\n",
      "0.29416775703430176\n",
      "0.29371023178100586\n",
      "0.2932628393173218\n",
      "0.2928251028060913\n",
      "0.2923968732357025\n",
      "0.29197782278060913\n",
      "0.2915674149990082\n",
      "0.29116567969322205\n",
      "0.29077228903770447\n",
      "0.29038679599761963\n",
      "0.29000914096832275\n",
      "0.28963902592658997\n",
      "0.2892761528491974\n",
      "0.28892046213150024\n",
      "0.2885715961456299\n",
      "0.28822943568229675\n",
      "0.28789377212524414\n",
      "0.28756439685821533\n",
      "0.2872411608695984\n",
      "0.2869238555431366\n",
      "0.28661227226257324\n",
      "0.28630638122558594\n",
      "0.2860059142112732\n",
      "0.28571075201034546\n",
      "0.2854207456111908\n",
      "0.28513574600219727\n",
      "0.2848556935787201\n",
      "0.2845804691314697\n",
      "0.2843097448348999\n",
      "0.2840436100959778\n",
      "0.28378191590309143\n",
      "0.2835245728492737\n",
      "0.28327125310897827\n",
      "0.28302210569381714\n",
      "0.28277698159217834\n",
      "0.2825356721878052\n",
      "0.28229811787605286\n",
      "0.2820643484592438\n",
      "0.281834214925766\n",
      "0.2816075086593628\n",
      "0.28138428926467896\n",
      "0.2811644375324249\n",
      "0.28094786405563354\n",
      "0.2807345390319824\n",
      "0.2805243730545044\n",
      "0.2803172171115875\n",
      "0.2801130712032318\n",
      "0.2799118459224701\n",
      "0.27971354126930237\n",
      "0.2795180678367615\n",
      "0.2793252170085907\n",
      "0.2791351079940796\n",
      "0.2789476811885834\n",
      "0.27876269817352295\n",
      "0.27858036756515503\n",
      "0.2784004211425781\n",
      "0.278222918510437\n",
      "0.2780478000640869\n",
      "0.27787503600120544\n",
      "0.27770447731018066\n",
      "0.27753615379333496\n",
      "0.27737003564834595\n",
      "0.2772060036659241\n",
      "0.2770441174507141\n",
      "0.2768842875957489\n",
      "0.27672648429870605\n",
      "0.276570588350296\n",
      "0.2764166295528412\n",
      "0.27626466751098633\n",
      "0.2761145532131195\n",
      "0.27596622705459595\n",
      "0.27581971883773804\n",
      "0.275674968957901\n",
      "0.27553194761276245\n",
      "0.275390625\n",
      "0.27525097131729126\n",
      "0.27511295676231384\n",
      "0.27497655153274536\n",
      "0.2748417556285858\n",
      "0.27470850944519043\n",
      "0.2745767831802368\n",
      "0.2744465172290802\n",
      "0.27431780099868774\n",
      "0.2741904854774475\n",
      "0.2740645706653595\n",
      "0.2739401161670685\n",
      "0.2738170623779297\n",
      "0.27369529008865356\n",
      "0.2735747992992401\n",
      "0.27345573902130127\n",
      "0.2733379006385803\n",
      "0.27322137355804443\n",
      "0.27310600876808167\n",
      "0.2729918956756592\n",
      "0.27287906408309937\n",
      "0.2727673649787903\n",
      "0.27265679836273193\n",
      "0.2725474536418915\n",
      "0.272439181804657\n",
      "0.27233201265335083\n",
      "0.2722260355949402\n",
      "0.27212104201316833\n",
      "0.27201712131500244\n",
      "0.2719142735004425\n",
      "0.271812379360199\n",
      "0.2717115879058838\n",
      "0.2716118097305298\n",
      "0.2715129256248474\n",
      "0.2714150846004486\n",
      "0.27131813764572144\n",
      "0.27122220396995544\n",
      "0.2711271345615387\n",
      "0.2710329592227936\n",
      "0.27093976736068726\n",
      "0.2708474397659302\n",
      "0.27075597643852234\n",
      "0.27066534757614136\n",
      "0.2705755829811096\n",
      "0.27048665285110474\n",
      "0.2703985869884491\n",
      "0.27031126618385315\n",
      "0.27022480964660645\n",
      "0.2701391279697418\n",
      "0.2700542211532593\n",
      "0.2699701488018036\n",
      "0.26988670229911804\n",
      "0.26980409026145935\n",
      "0.26972222328186035\n",
      "0.2696410119533539\n",
      "0.26956063508987427\n",
      "0.2694808542728424\n",
      "0.26940181851387024\n",
      "0.269323468208313\n",
      "0.26924580335617065\n",
      "0.2691688537597656\n",
      "0.26909250020980835\n",
      "0.2690168023109436\n",
      "0.2689417898654938\n",
      "0.2688674330711365\n",
      "0.26879367232322693\n",
      "0.26872050762176514\n",
      "0.26864802837371826\n",
      "0.26857611536979675\n",
      "0.2685047686100006\n",
      "0.2684341073036194\n",
      "0.26836392283439636\n",
      "0.2682943344116211\n",
      "0.26822540163993835\n",
      "0.2681569457054138\n",
      "0.26808908581733704\n",
      "0.26802176237106323\n",
      "0.2679549753665924\n",
      "0.2678886651992798\n",
      "0.2678229808807373\n",
      "0.26775774359703064\n",
      "0.26769307255744934\n",
      "0.267628937959671\n",
      "0.2675653100013733\n",
      "0.267502099275589\n",
      "0.26743942499160767\n",
      "0.26737719774246216\n",
      "0.26731550693511963\n",
      "0.2672543227672577\n",
      "0.2671935260295868\n",
      "0.2671332061290741\n",
      "0.2670733630657196\n",
      "0.2670140564441681\n",
      "0.26695504784584045\n",
      "0.2668965756893158\n",
      "0.2668384909629822\n",
      "0.2667808532714844\n",
      "0.2667236626148224\n",
      "0.2666669487953186\n",
      "0.2666105628013611\n",
      "0.26655465364456177\n",
      "0.2664991319179535\n",
      "0.26644396781921387\n",
      "0.26638925075531006\n",
      "0.26633498072624207\n",
      "0.26628103852272034\n",
      "0.26622748374938965\n",
      "0.26617431640625\n",
      "0.2661215662956238\n",
      "0.2660691738128662\n",
      "0.2660171389579773\n",
      "0.26596540212631226\n",
      "0.26591411232948303\n",
      "0.26586320996284485\n",
      "0.26581260561943054\n",
      "0.2657623589038849\n",
      "0.2657124996185303\n",
      "0.26566293835639954\n",
      "0.26561376452445984\n",
      "0.26556485891342163\n",
      "0.26551637053489685\n",
      "0.26546820998191833\n",
      "0.2654203176498413\n",
      "0.26537278294563293\n",
      "0.26532551646232605\n",
      "0.2652786374092102\n",
      "0.26523205637931824\n",
      "0.26518580317497253\n",
      "0.2651398181915283\n",
      "0.26509416103363037\n",
      "0.2650488018989563\n",
      "0.2650037407875061\n",
      "0.2649589776992798\n",
      "0.26491451263427734\n",
      "0.264870285987854\n",
      "0.2648264169692993\n",
      "0.26478278636932373\n",
      "0.2647394835948944\n",
      "0.2646964192390442\n",
      "0.26465362310409546\n",
      "0.264611154794693\n",
      "0.26456886529922485\n",
      "0.26452696323394775\n",
      "0.2644852101802826\n",
      "0.26444384455680847\n",
      "0.2644026577472687\n",
      "0.264361709356308\n",
      "0.26432108879089355\n",
      "0.2642807066440582\n",
      "0.264240562915802\n",
      "0.2642006278038025\n",
      "0.26416099071502686\n",
      "0.2641215920448303\n",
      "0.2640824317932129\n",
      "0.26404350996017456\n",
      "0.26400482654571533\n",
      "0.2639663815498352\n",
      "0.2639281451702118\n",
      "0.2638901472091675\n",
      "0.2638523280620575\n",
      "0.26381486654281616\n",
      "0.2637775242328644\n",
      "0.2637404799461365\n",
      "0.2637036144733429\n",
      "0.26366695761680603\n",
      "0.26363053917884827\n",
      "0.2635943293571472\n",
      "0.2635583281517029\n",
      "0.26352253556251526\n",
      "0.26348695158958435\n",
      "0.26345154643058777\n",
      "0.2634164094924927\n",
      "0.2633814215660095\n",
      "0.26334670186042786\n",
      "0.26331213116645813\n",
      "0.26327773928642273\n",
      "0.26324358582496643\n",
      "0.26320964097976685\n",
      "0.263175904750824\n",
      "0.26314231753349304\n",
      "0.2631089389324188\n",
      "0.26307573914527893\n",
      "0.26304274797439575\n",
      "0.2630099058151245\n",
      "0.26297727227211\n",
      "0.2629448175430298\n",
      "0.2629125416278839\n",
      "0.26288044452667236\n",
      "0.26284852623939514\n",
      "0.26281675696372986\n",
      "0.26278525590896606\n",
      "0.26275384426116943\n",
      "0.2627226412296295\n",
      "0.26269155740737915\n",
      "0.2626607418060303\n",
      "0.26263007521629333\n",
      "0.26259955763816833\n",
      "0.26256921887397766\n",
      "0.2625390589237213\n",
      "0.2625090777873993\n",
      "0.2624792754650116\n",
      "0.26244956254959106\n",
      "0.26242005825042725\n",
      "0.26239079236984253\n",
      "0.26236167550086975\n",
      "0.2623327374458313\n",
      "0.2623039484024048\n",
      "0.262275367975235\n",
      "0.2622469663619995\n",
      "0.26221877336502075\n",
      "0.2621907889842987\n",
      "0.26216304302215576\n",
      "0.26213550567626953\n",
      "0.2621082663536072\n",
      "0.2620811462402344\n",
      "0.2620543837547302\n",
      "0.2620279788970947\n",
      "0.2620019018650055\n",
      "0.26197612285614014\n",
      "0.261950820684433\n",
      "0.26192593574523926\n",
      "0.2619016766548157\n",
      "0.2618778944015503\n",
      "0.26185497641563416\n",
      "0.26183268427848816\n",
      "0.26181158423423767\n",
      "0.26179128885269165\n",
      "0.26177263259887695\n",
      "0.26175498962402344\n",
      "0.2617398202419281\n",
      "0.26172590255737305\n",
      "0.2617155611515045\n",
      "0.26170670986175537\n",
      "0.2617031931877136\n",
      "0.2617013156414032\n",
      "0.2617074251174927\n",
      "0.2617150545120239\n",
      "0.26173466444015503\n",
      "0.2617549002170563\n",
      "0.2617932856082916\n",
      "0.26183000206947327\n",
      "0.26189395785331726\n",
      "0.26195114850997925\n",
      "0.26204875111579895\n",
      "0.2621295750141144\n",
      "0.26226985454559326\n",
      "0.2623749077320099\n",
      "0.262565553188324\n",
      "0.26269006729125977\n",
      "0.26293468475341797\n",
      "0.2630656659603119\n",
      "0.2633604109287262\n",
      "0.2634759545326233\n",
      "0.2638073265552521\n",
      "0.26387980580329895\n",
      "0.2642265260219574\n",
      "0.2642310559749603\n",
      "0.2645706534385681\n",
      "0.26449400186538696\n",
      "0.26480960845947266\n",
      "0.26465436816215515\n",
      "0.2649385631084442\n",
      "0.2647196650505066\n",
      "0.2649732828140259\n",
      "0.26471012830734253\n",
      "0.264938086271286\n",
      "0.26464909315109253\n",
      "0.26485711336135864\n",
      "0.2645559310913086\n",
      "0.26474863290786743\n",
      "0.2644442319869995\n",
      "0.2646249830722809\n",
      "0.2643231451511383\n",
      "0.2644942104816437\n",
      "0.26419782638549805\n",
      "0.26436078548431396\n",
      "0.2640715539455414\n",
      "0.2642272114753723\n",
      "0.26394596695899963\n",
      "0.2640950083732605\n",
      "0.26382219791412354\n",
      "0.2639652490615845\n",
      "0.2637008726596832\n",
      "0.26383838057518005\n",
      "0.2635822892189026\n",
      "0.26371461153030396\n",
      "0.2634665071964264\n",
      "0.26359376311302185\n",
      "0.263353556394577\n",
      "0.2634761333465576\n",
      "0.2632434368133545\n",
      "0.26336148381233215\n",
      "0.26313596963882446\n",
      "0.26324984431266785\n",
      "0.2630312442779541\n",
      "0.26314106583595276\n",
      "0.262929230928421\n",
      "0.2630354166030884\n",
      "0.26282998919487\n",
      "0.2629324495792389\n",
      "0.2627331614494324\n",
      "0.2628321349620819\n",
      "0.2626385986804962\n",
      "0.2627342641353607\n",
      "0.26254644989967346\n",
      "0.26263904571533203\n",
      "0.2624565362930298\n",
      "0.2625461220741272\n",
      "0.262368768453598\n",
      "0.2624554932117462\n",
      "0.2622831165790558\n",
      "0.2623670697212219\n",
      "0.26219943165779114\n",
      "0.26228079199790955\n",
      "0.2621176540851593\n",
      "0.2621966004371643\n",
      "0.2620379328727722\n",
      "0.26211443543434143\n",
      "0.26195991039276123\n",
      "0.2620340883731842\n",
      "0.26188361644744873\n",
      "0.26195573806762695\n",
      "0.26180902123451233\n",
      "0.261879026889801\n",
      "0.26173603534698486\n",
      "0.26180410385131836\n",
      "0.2616647183895111\n",
      "0.2617308497428894\n",
      "0.26159483194351196\n",
      "0.2616591453552246\n",
      "0.2615264654159546\n",
      "0.26158905029296875\n",
      "0.2614594101905823\n",
      "0.2615203261375427\n",
      "0.26139381527900696\n",
      "0.26145315170288086\n",
      "0.2613294720649719\n",
      "0.26138725876808167\n",
      "0.2612663507461548\n",
      "0.26132261753082275\n",
      "0.2612045109272003\n",
      "0.2612594664096832\n",
      "0.2611439824104309\n",
      "0.26119759678840637\n",
      "0.2610847055912018\n",
      "0.2611369490623474\n",
      "0.26102638244628906\n",
      "0.2610774636268616\n",
      "0.2609691023826599\n",
      "0.2610190212726593\n",
      "0.2609129548072815\n",
      "0.26096174120903015\n",
      "0.26085782051086426\n",
      "0.26090556383132935\n",
      "0.2608037292957306\n",
      "0.2608503997325897\n",
      "0.26075056195259094\n",
      "0.2607961893081665\n",
      "0.2606983184814453\n",
      "0.26074302196502686\n",
      "0.2606469690799713\n",
      "0.26069071888923645\n",
      "0.26059654355049133\n",
      "0.26063936948776245\n",
      "0.2605469524860382\n",
      "0.26058903336524963\n",
      "0.2604982852935791\n",
      "0.2605394423007965\n",
      "0.2604503035545349\n",
      "0.26049068570137024\n",
      "0.2604031264781952\n",
      "0.2604427635669708\n",
      "0.26035672426223755\n",
      "0.2603956162929535\n",
      "0.2603111267089844\n",
      "0.26034924387931824\n",
      "0.26026612520217896\n",
      "0.26030370593070984\n",
      "0.260221928358078\n",
      "0.2602587938308716\n",
      "0.2601783871650696\n",
      "0.260214626789093\n",
      "0.2601354420185089\n",
      "0.2601710557937622\n",
      "0.2600930631160736\n",
      "0.2601281702518463\n",
      "0.2600513696670532\n",
      "0.2600858807563782\n",
      "0.260010302066803\n",
      "0.2600442171096802\n",
      "0.25996989011764526\n",
      "0.2600032687187195\n",
      "0.259929895401001\n",
      "0.2599628269672394\n",
      "0.25989046692848206\n",
      "0.25992295145988464\n",
      "0.2598515748977661\n",
      "0.2598835825920105\n",
      "0.2598132789134979\n",
      "0.2598448097705841\n",
      "0.25977542996406555\n",
      "0.2598065137863159\n",
      "0.25973817706108093\n",
      "0.2597688138484955\n",
      "0.25970134139060974\n",
      "0.25973162055015564\n",
      "0.25966504216194153\n",
      "0.2596949338912964\n",
      "0.2596292197704315\n",
      "0.2596586346626282\n",
      "0.25959375500679016\n",
      "0.2596227824687958\n",
      "0.2595587372779846\n",
      "0.2595874071121216\n",
      "0.2595241665840149\n",
      "0.2595525085926056\n",
      "0.2594899833202362\n",
      "0.259518027305603\n",
      "0.25945621728897095\n",
      "0.2594839036464691\n",
      "0.25942277908325195\n",
      "0.25945013761520386\n",
      "0.2593897879123688\n",
      "0.25941693782806396\n",
      "0.2593572735786438\n",
      "0.2593839764595032\n",
      "0.25932490825653076\n",
      "0.2593514621257782\n",
      "0.2592930793762207\n",
      "0.2593192160129547\n",
      "0.25926151871681213\n",
      "0.25928741693496704\n",
      "0.2592303156852722\n",
      "0.25925588607788086\n",
      "0.2591993808746338\n",
      "0.25922468304634094\n",
      "0.2591688334941864\n",
      "0.25919395685195923\n",
      "0.2591386139392853\n",
      "0.2591634690761566\n",
      "0.25910866260528564\n",
      "0.25913330912590027\n",
      "0.25907912850379944\n",
      "0.2591035068035126\n",
      "0.25904983282089233\n",
      "0.25907400250434875\n",
      "0.2590208351612091\n",
      "0.2590447664260864\n",
      "0.258992075920105\n",
      "0.2590157687664032\n",
      "0.25896358489990234\n",
      "0.2589871287345886\n",
      "0.25893542170524597\n",
      "0.25895872712135315\n",
      "0.2589075267314911\n",
      "0.25893059372901917\n",
      "0.25887978076934814\n",
      "0.25890272855758667\n",
      "0.25885242223739624\n",
      "0.25887513160705566\n",
      "0.25882530212402344\n",
      "0.25884783267974854\n",
      "0.2587984502315521\n",
      "0.2588207721710205\n",
      "0.2587718069553375\n",
      "0.2587938606739044\n",
      "0.25874534249305725\n",
      "0.2587672472000122\n",
      "0.2587190866470337\n",
      "0.25874099135398865\n",
      "0.2586931884288788\n",
      "0.25871479511260986\n",
      "0.2586674094200134\n",
      "0.25868886709213257\n",
      "0.2586418390274048\n",
      "0.25866302847862244\n",
      "0.2586163878440857\n",
      "0.25863751769065857\n",
      "0.25859129428863525\n",
      "0.2586122453212738\n",
      "0.25856634974479675\n",
      "0.25858715176582336\n",
      "0.25854161381721497\n",
      "0.25856226682662964\n",
      "0.25851714611053467\n",
      "0.2585376501083374\n",
      "0.2584928572177887\n",
      "0.2585132122039795\n",
      "0.25846877694129944\n",
      "0.2584889829158783\n",
      "0.25844478607177734\n",
      "0.25846490263938904\n",
      "0.2584210932254791\n",
      "0.2584410309791565\n",
      "0.25839751958847046\n",
      "0.2584172487258911\n",
      "0.25837406516075134\n",
      "0.25839367508888245\n",
      "0.25835081934928894\n",
      "0.25837036967277527\n",
      "0.25832775235176086\n",
      "0.25834712386131287\n",
      "0.2583048641681671\n",
      "0.25832411646842957\n",
      "0.2582821846008301\n",
      "0.2583012282848358\n",
      "0.25825953483581543\n",
      "0.258278489112854\n",
      "0.2582370936870575\n",
      "0.2582559883594513\n",
      "0.25821489095687866\n",
      "0.2582336366176605\n",
      "0.258192777633667\n",
      "0.2582113742828369\n",
      "0.25817087292671204\n",
      "0.2581893503665924\n",
      "0.25814905762672424\n",
      "0.25816744565963745\n",
      "0.2581274211406708\n",
      "0.25814560055732727\n",
      "0.2581058442592621\n",
      "0.2581239342689514\n",
      "0.2580844759941101\n",
      "0.2581024765968323\n",
      "0.25806328654289246\n",
      "0.2580811381340027\n",
      "0.25804218649864197\n",
      "0.25805994868278503\n",
      "0.2580212354660034\n",
      "0.25803884863853455\n",
      "0.25800037384033203\n",
      "0.2580178380012512\n",
      "0.25797969102859497\n",
      "0.257997065782547\n",
      "0.2579590976238251\n",
      "0.2579764127731323\n",
      "0.2579387128353119\n",
      "0.2579558491706848\n",
      "0.25791844725608826\n",
      "0.2579355239868164\n",
      "0.2578982710838318\n",
      "0.2579152286052704\n",
      "0.25787824392318726\n",
      "0.2578951120376587\n",
      "0.2578582763671875\n",
      "0.2578750252723694\n",
      "0.25783848762512207\n",
      "0.2578551173210144\n",
      "0.2578188180923462\n",
      "0.257835328578949\n",
      "0.25779926776885986\n",
      "0.2578156292438507\n",
      "0.2577798068523407\n",
      "0.25779616832733154\n",
      "0.25776049494743347\n",
      "0.25777673721313477\n",
      "0.25774136185646057\n",
      "0.25775739550590515\n",
      "0.2577221989631653\n",
      "0.2577382028102875\n",
      "0.25770318508148193\n",
      "0.2577190399169922\n",
      "0.2576843202114105\n",
      "0.25770002603530884\n",
      "0.2576655447483063\n",
      "0.2576812505722046\n",
      "0.2576468884944916\n",
      "0.25766250491142273\n",
      "0.25762835144996643\n",
      "0.25764381885528564\n",
      "0.25760984420776367\n",
      "0.2576252818107605\n",
      "0.2575915455818176\n",
      "0.2576068043708801\n",
      "0.25757330656051636\n",
      "0.2575885057449341\n",
      "0.257555216550827\n",
      "0.2575702369213104\n",
      "0.2575371265411377\n",
      "0.2575520873069763\n",
      "0.25751909613609314\n",
      "0.2575339674949646\n",
      "0.2575012147426605\n",
      "0.2575160264968872\n",
      "0.25748348236083984\n",
      "0.2574981451034546\n",
      "0.25746574997901917\n",
      "0.25748032331466675\n",
      "0.2574482262134552\n",
      "0.2574627101421356\n",
      "0.257430762052536\n",
      "0.25744515657424927\n",
      "0.25741341710090637\n",
      "0.2574276924133301\n",
      "0.2573961317539215\n",
      "0.25741034746170044\n",
      "0.2573789954185486\n",
      "0.25739312171936035\n",
      "0.2573619484901428\n",
      "0.25737595558166504\n",
      "0.2573449909687042\n",
      "0.2573589086532593\n",
      "0.2573280334472656\n",
      "0.2573418617248535\n",
      "0.25731122493743896\n",
      "0.2573249638080597\n",
      "0.25729453563690186\n",
      "0.25730812549591064\n",
      "0.2572779059410095\n",
      "0.2572915852069855\n",
      "0.2572614252567291\n",
      "0.25727492570877075\n",
      "0.2572450041770935\n",
      "0.2572583556175232\n",
      "0.2572286128997803\n",
      "0.2572418749332428\n",
      "0.2572123110294342\n",
      "0.25722551345825195\n",
      "0.2571961283683777\n",
      "0.25720924139022827\n",
      "0.25718003511428833\n",
      "0.257192999124527\n",
      "0.25716397166252136\n",
      "0.2571769058704376\n",
      "0.2571480870246887\n",
      "0.25716087222099304\n",
      "0.2571321427822113\n",
      "0.25714489817619324\n",
      "0.2571163773536682\n",
      "0.2571290135383606\n",
      "0.2571006715297699\n",
      "0.2571132183074951\n",
      "0.25708502531051636\n",
      "0.257097452878952\n",
      "0.2570694386959076\n",
      "0.25708189606666565\n",
      "0.25705400109291077\n",
      "0.2570663392543793\n",
      "0.25703856348991394\n",
      "0.2570507824420929\n",
      "0.2570232152938843\n",
      "0.25703543424606323\n",
      "0.25700801610946655\n",
      "0.25702008605003357\n",
      "0.2569928765296936\n",
      "0.25700485706329346\n",
      "0.25697776675224304\n",
      "0.2569897174835205\n",
      "0.2569628357887268\n",
      "0.25697463750839233\n",
      "0.2569478154182434\n",
      "0.25695955753326416\n",
      "0.25693297386169434\n",
      "0.2569446563720703\n",
      "0.2569182217121124\n",
      "0.25692975521087646\n",
      "0.2569034993648529\n",
      "0.25691500306129456\n",
      "0.25688883662223816\n",
      "0.2569003105163574\n",
      "0.25687432289123535\n",
      "0.2568857669830322\n",
      "0.2568598985671997\n",
      "0.25687116384506226\n",
      "0.2568454444408417\n",
      "0.25685665011405945\n",
      "0.2568310797214508\n",
      "0.2568421959877014\n",
      "0.2568168044090271\n",
      "0.2568278908729553\n",
      "0.25680264830589294\n",
      "0.25681358575820923\n",
      "0.2567884624004364\n",
      "0.2567993104457855\n",
      "0.2567744255065918\n",
      "0.2567852735519409\n",
      "0.25676050782203674\n",
      "0.25677117705345154\n",
      "0.2567465007305145\n",
      "0.25675714015960693\n",
      "0.25673267245292664\n",
      "0.25674331188201904\n",
      "0.2567189335823059\n",
      "0.256729394197464\n",
      "0.2567051649093628\n",
      "0.25671568512916565\n",
      "0.2566915452480316\n",
      "0.2567019462585449\n",
      "0.2566780149936676\n",
      "0.25668835639953613\n",
      "0.25666460394859314\n",
      "0.2566748261451721\n",
      "0.2566511929035187\n",
      "0.2566613256931305\n",
      "0.2566377818584442\n",
      "0.25664785504341125\n",
      "0.2566244304180145\n",
      "0.2566344141960144\n",
      "0.2566111087799072\n",
      "0.2566210627555847\n",
      "0.25659793615341187\n",
      "0.2566078305244446\n",
      "0.25658488273620605\n",
      "0.2565947473049164\n",
      "0.25657182931900024\n",
      "0.256581574678421\n",
      "0.25655892491340637\n",
      "0.2565686106681824\n",
      "0.2565460205078125\n",
      "0.25655555725097656\n",
      "0.2565331757068634\n",
      "0.2565426528453827\n",
      "0.2565203011035919\n",
      "0.2565297782421112\n",
      "0.2565075159072876\n",
      "0.2565169632434845\n",
      "0.2564948797225952\n",
      "0.2565041780471802\n",
      "0.25648218393325806\n",
      "0.25649145245552063\n",
      "0.25646963715553284\n",
      "0.256478875875473\n",
      "0.2564571797847748\n",
      "0.2564663290977478\n",
      "0.2564447522163391\n",
      "0.25645384192466736\n",
      "0.2564323842525482\n",
      "0.2564413547515869\n",
      "0.2564200758934021\n",
      "0.2564290165901184\n",
      "0.25640782713890076\n",
      "0.25641676783561707\n",
      "0.2563956081867218\n",
      "0.25640445947647095\n",
      "0.2563834488391876\n",
      "0.2563922703266144\n",
      "0.2563714385032654\n",
      "0.2563801407814026\n",
      "0.25635939836502075\n",
      "0.2563680410385132\n",
      "0.2563474178314209\n",
      "0.25635600090026855\n",
      "0.2563354969024658\n",
      "0.2563440799713135\n",
      "0.2563236355781555\n",
      "0.2563321590423584\n",
      "0.25631189346313477\n",
      "0.25632035732269287\n",
      "0.2563002109527588\n",
      "0.25630858540534973\n",
      "0.25628846883773804\n",
      "0.2562968134880066\n",
      "0.25627678632736206\n",
      "0.25628507137298584\n",
      "0.25626522302627563\n",
      "0.25627344846725464\n",
      "0.256253719329834\n",
      "0.2562618553638458\n",
      "0.2562422454357147\n",
      "0.2562503218650818\n",
      "0.25623080134391785\n",
      "0.2562388777732849\n",
      "0.2562195360660553\n",
      "0.2562275230884552\n",
      "0.25620824098587036\n",
      "0.2562161982059479\n",
      "0.2561970353126526\n",
      "0.25620490312576294\n",
      "0.2561858296394348\n",
      "0.2561936676502228\n",
      "0.25617465376853943\n",
      "0.2561824917793274\n",
      "0.256163626909256\n",
      "0.2561713755130768\n",
      "0.25615260004997253\n",
      "0.25616031885147095\n",
      "0.25614163279533386\n",
      "0.2561492919921875\n",
      "0.25613075494766235\n",
      "0.25613832473754883\n",
      "0.25611984729766846\n",
      "0.25612735748291016\n",
      "0.25610896944999695\n",
      "0.25611644983291626\n",
      "0.2560981810092926\n",
      "0.25610560178756714\n",
      "0.25608739256858826\n",
      "0.2560947835445404\n",
      "0.2560766935348511\n",
      "0.25608399510383606\n",
      "0.2560659945011139\n",
      "0.25607332587242126\n",
      "0.25605544447898865\n",
      "0.25606268644332886\n",
      "0.256044864654541\n",
      "0.25605204701423645\n",
      "0.25603431463241577\n",
      "0.2560414671897888\n",
      "0.2560238242149353\n",
      "0.25603094696998596\n",
      "0.256013423204422\n",
      "0.2560204863548279\n",
      "0.25600308179855347\n",
      "0.2560100257396698\n",
      "0.25599271059036255\n",
      "0.25599968433380127\n",
      "0.2559824585914612\n",
      "0.2559894323348999\n",
      "0.255972295999527\n",
      "0.25597915053367615\n",
      "0.255962073802948\n",
      "0.25596892833709717\n",
      "0.25595197081565857\n",
      "0.2559587061405182\n",
      "0.25594186782836914\n",
      "0.25594863295555115\n",
      "0.2559318244457245\n",
      "0.2559385299682617\n",
      "0.2559218406677246\n",
      "0.2559284567832947\n",
      "0.2559118866920471\n",
      "0.2559184730052948\n",
      "0.255901962518692\n",
      "0.2559084892272949\n",
      "0.2558920681476593\n",
      "0.2558985948562622\n",
      "0.255882203578949\n",
      "0.2558887004852295\n",
      "0.2558724880218506\n",
      "0.25587889552116394\n",
      "0.25586268305778503\n",
      "0.2558691203594208\n",
      "0.25585299730300903\n",
      "0.2558593153953552\n",
      "0.25584325194358826\n",
      "0.25584954023361206\n",
      "0.2558336555957794\n",
      "0.2558399438858032\n",
      "0.25582411885261536\n",
      "0.2558303773403168\n",
      "0.2558146119117737\n",
      "0.2558208405971527\n",
      "0.25580519437789917\n",
      "0.2558113634586334\n",
      "0.2557957172393799\n",
      "0.25580188632011414\n",
      "0.25578638911247253\n",
      "0.2557924687862396\n",
      "0.255776971578598\n",
      "0.2557830512523651\n",
      "0.2557676434516907\n",
      "0.2557736933231354\n",
      "0.2557584047317505\n",
      "0.2557643949985504\n",
      "0.2557492256164551\n",
      "0.25575512647628784\n",
      "0.2557400166988373\n",
      "0.25574594736099243\n",
      "0.25573086738586426\n",
      "0.25573670864105225\n",
      "0.25572171807289124\n",
      "0.25572752952575684\n",
      "0.255712628364563\n",
      "0.255718469619751\n",
      "0.2557036280632019\n",
      "0.2557094097137451\n",
      "0.2556946575641632\n",
      "0.25570034980773926\n",
      "0.2556856572628021\n",
      "0.2556912899017334\n",
      "0.25567665696144104\n",
      "0.2556822597980499\n",
      "0.2556677460670471\n",
      "0.2556733787059784\n",
      "0.25565895438194275\n",
      "0.2556644678115845\n",
      "0.255650132894516\n",
      "0.2556556761264801\n",
      "0.2556414008140564\n",
      "0.2556469440460205\n",
      "0.255632609128952\n",
      "0.25563809275627136\n",
      "0.2556239366531372\n",
      "0.25562936067581177\n",
      "0.255615234375\n",
      "0.25562065839767456\n",
      "0.25560662150382996\n",
      "0.25561195611953735\n",
      "0.2555980086326599\n",
      "0.2556034028530121\n",
      "0.25558948516845703\n",
      "0.25559473037719727\n",
      "0.2555809020996094\n",
      "0.2555862069129944\n",
      "0.2555724084377289\n",
      "0.25557762384414673\n",
      "0.2555639445781708\n",
      "0.255569189786911\n",
      "0.25555554032325745\n",
      "0.2555607557296753\n",
      "0.2555471360683441\n",
      "0.25555235147476196\n",
      "0.2555387616157532\n",
      "0.25554391741752625\n",
      "0.2555304169654846\n",
      "0.2555355131626129\n",
      "0.25552207231521606\n",
      "0.25552719831466675\n"
     ]
    }
   ],
   "source": [
    "\n",
    "for _ in range(1000):\n",
    "    # forward pass\n",
    "    emb = C[X] # [32, 3, 2]\n",
    "    h = torch.tanh(emb.view(-1,6) @ W1 + b1) # (32, 100)\n",
    "    logits = h @ W2 + b2 \n",
    "    loss = F.cross_entropy(logits,Y)\n",
    "    print(loss.item())\n",
    "    # backwoard pass\n",
    "    # set gradients to 0\n",
    "    for p in parameters:\n",
    "        p.grad = None\n",
    "    loss.backward() \n",
    "    # update \n",
    "    for p in parameters:\n",
    "        p.data += -0.1 * p.grad"
   ]
  },
  {
   "cell_type": "code",
   "execution_count": null,
   "metadata": {},
   "outputs": [
    {
     "data": {
      "text/plain": [
       "tensor([[ 3.6330e+00,  1.3344e+01,  5.3733e+00,  4.0964e+00, -6.7629e-01,\n",
       "          1.3352e+01, -1.7996e+01,  5.7657e+00, -3.6054e+00,  1.3435e+01,\n",
       "          6.8217e+00, -3.4204e+00, -1.7846e-01,  7.3026e+00,  1.5929e-01,\n",
       "          1.3369e+01,  3.7618e+00,  6.6885e+00, -7.2071e-01,  1.3247e+01,\n",
       "         -2.6216e+00,  4.6573e+00,  7.1206e+00, -6.5330e+00,  6.3406e+00,\n",
       "         -5.4540e+00,  5.9469e+00],\n",
       "        [-9.2143e+00,  7.5805e+00,  1.8970e+00,  1.3441e+00,  5.6386e+00,\n",
       "          9.9656e+00, -2.4572e+00,  4.2969e+00,  8.5794e+00, -3.6865e+00,\n",
       "          1.0400e+01, -1.0063e+00,  1.2370e+01,  1.7991e+01,  5.8731e+00,\n",
       "          6.3112e+00,  8.8408e+00,  1.8544e+00,  7.5166e+00,  9.4346e+00,\n",
       "          2.0294e+00, -9.0835e+00, -9.8888e+00, -1.1869e+01,  1.6936e+00,\n",
       "         -4.0845e+00,  6.2728e+00],\n",
       "        [ 8.1205e+00,  1.2055e+01,  1.0338e+01,  5.6828e+00, -1.9490e+00,\n",
       "          5.6269e+00, -9.9272e+00, -8.7161e+00, -1.1291e+01,  1.4173e+01,\n",
       "          5.7005e+00,  1.1688e+01,  5.3799e+00,  2.0675e+01, -1.2258e+01,\n",
       "          5.0378e+00, -7.2608e+00, -1.2267e+01, -7.2339e+00, -2.3801e+00,\n",
       "         -2.3760e+00, -1.7670e+00, -3.9198e-01,  1.3409e+01,  3.5555e+00,\n",
       "         -1.6027e+01,  1.3800e+00],\n",
       "        [ 1.4265e+01,  2.0739e+01,  7.9880e+00, -1.2710e+00, -1.5414e+01,\n",
       "          4.3027e+00,  5.0441e+00, -1.6774e+00,  6.5753e+00,  1.1301e+01,\n",
       "         -1.1767e+01,  1.2599e+01, -1.6246e+01,  2.0950e+00,  6.8496e+00,\n",
       "         -2.0739e+00,  3.7480e+00,  7.0793e+00,  2.0291e+00,  5.6797e+00,\n",
       "          1.8293e-01,  8.5939e+00,  1.3344e+01, -2.0056e+01, -4.1118e+00,\n",
       "          1.0938e+01, -2.0420e+00],\n",
       "        [ 1.6881e+01,  9.3032e+00,  4.5550e+00,  2.3114e+00, -4.4444e+00,\n",
       "          7.3764e-01, -9.9389e+00, -6.0850e-01, -9.5735e-01,  7.7105e+00,\n",
       "          1.3206e-01, -3.8139e+00,  1.6637e+00,  2.4945e+00,  5.3877e+00,\n",
       "          6.2108e+00,  5.8872e+00, -1.1826e+00,  1.5648e+00,  9.6880e+00,\n",
       "          5.0125e+00,  5.6940e+00,  1.0205e+01, -7.7895e+00, -3.8833e+00,\n",
       "          2.2600e+00,  2.8983e+00],\n",
       "        [ 3.6330e+00,  1.3344e+01,  5.3733e+00,  4.0964e+00, -6.7629e-01,\n",
       "          1.3352e+01, -1.7996e+01,  5.7657e+00, -3.6054e+00,  1.3435e+01,\n",
       "          6.8217e+00, -3.4204e+00, -1.7846e-01,  7.3026e+00,  1.5929e-01,\n",
       "          1.3369e+01,  3.7618e+00,  6.6885e+00, -7.2071e-01,  1.3247e+01,\n",
       "         -2.6216e+00,  4.6573e+00,  7.1206e+00, -6.5330e+00,  6.3406e+00,\n",
       "         -5.4540e+00,  5.9469e+00],\n",
       "        [-3.4722e+00,  7.4825e+00,  3.4960e+00, -1.1947e+00,  3.5853e+00,\n",
       "          7.4469e+00,  8.4138e-01, -1.5469e-01,  3.8195e+00, -2.5171e+00,\n",
       "          8.7509e+00, -4.3389e+00,  1.6114e+01,  1.0111e+01,  8.0357e-01,\n",
       "          8.2774e+00,  7.5925e+00,  5.3139e+00,  8.4357e+00,  9.8486e+00,\n",
       "          1.4163e+00, -3.2483e+00, -4.0023e+00, -1.5329e+01, -3.1951e-02,\n",
       "         -1.2663e+00,  6.0030e+00],\n",
       "        [-1.2288e+01,  1.4478e+00,  4.7377e+00, -1.9036e+00,  5.7322e+00,\n",
       "          1.4082e+00, -3.3830e+00, -1.4351e+01,  4.1851e+00,  1.4303e+01,\n",
       "          5.9623e+00, -2.6120e+00,  7.7720e+00, -4.1326e+00, -3.6289e+00,\n",
       "          4.2776e+00, -7.1996e-01, -2.2826e+00, -4.0310e+00, -6.2842e+00,\n",
       "         -1.2361e+01, -1.2581e+01, -1.0398e+01,  4.7590e+00,  4.2737e+00,\n",
       "         -4.1698e+00,  5.3515e+00],\n",
       "        [ 9.2493e+00,  1.6043e+00,  2.9919e+00, -6.5819e+00, -3.6636e+00,\n",
       "          2.8410e-01, -8.6898e+00, -1.2585e+01, -1.1204e+01,  9.9612e+00,\n",
       "          8.1055e+00,  4.1185e+00, -1.1261e+01, -2.2291e+00, -1.7367e+01,\n",
       "          2.6112e-01, -1.9160e+01, -4.3627e+00, -2.5033e+00, -3.3740e+00,\n",
       "          2.8665e-01, -2.9752e+00,  1.6032e+01,  2.3011e+00,  7.2837e-01,\n",
       "         -3.8678e+00, -1.7942e+01],\n",
       "        [ 1.0020e+01,  1.2082e+01,  3.0138e+00,  4.5930e+00, -3.1214e+00,\n",
       "          2.4063e+00,  2.5934e+00, -3.4380e+00, -9.0992e+00,  1.8549e+01,\n",
       "          4.4098e+00,  7.6150e+00, -1.3172e+01, -1.6988e+00, -1.9835e+00,\n",
       "         -6.9782e+00, -9.7752e-01,  8.1309e+00,  6.3299e+00,  3.3889e+00,\n",
       "          8.7577e-01,  7.7902e+00,  1.0993e+01, -1.2752e+01,  4.1261e+00,\n",
       "         -9.1951e-01, -2.5723e+00],\n",
       "        [ 1.0047e+01,  1.6098e+01,  8.7916e+00,  4.6027e+00, -9.1641e+00,\n",
       "          9.6804e+00, -1.0303e+01,  4.7614e+00,  4.5463e+00,  7.1617e+00,\n",
       "         -1.3773e+00,  4.7203e+00,  8.1088e-01,  4.6678e+00,  5.5738e+00,\n",
       "          3.7923e+00,  6.1984e+00,  2.3941e+00,  4.1370e+00,  1.3511e+00,\n",
       "         -1.2815e+00,  1.0781e+00,  4.8606e+00, -1.0856e+01, -8.1025e+00,\n",
       "          3.5153e+00,  3.5103e+00],\n",
       "        [ 2.1076e+01,  1.3690e+01,  9.3480e+00,  4.3299e+00, -7.7936e+00,\n",
       "         -1.4265e-01, -3.9050e+00, -1.2333e+00,  2.2035e+00,  9.6967e+00,\n",
       "         -2.4988e+00,  1.1916e+00,  2.5720e+00,  8.3123e+00,  9.7910e+00,\n",
       "          5.9285e+00,  4.0555e+00, -5.0391e-01,  1.0002e+00, -5.9031e+00,\n",
       "          7.8712e+00, -9.0009e-01,  1.0303e+01, -4.6257e+00, -8.1898e+00,\n",
       "          3.9712e+00, -1.6498e+00],\n",
       "        [ 3.6330e+00,  1.3344e+01,  5.3733e+00,  4.0964e+00, -6.7629e-01,\n",
       "          1.3352e+01, -1.7996e+01,  5.7657e+00, -3.6054e+00,  1.3435e+01,\n",
       "          6.8217e+00, -3.4204e+00, -1.7846e-01,  7.3026e+00,  1.5929e-01,\n",
       "          1.3369e+01,  3.7618e+00,  6.6885e+00, -7.2071e-01,  1.3247e+01,\n",
       "         -2.6216e+00,  4.6573e+00,  7.1206e+00, -6.5330e+00,  6.3406e+00,\n",
       "         -5.4540e+00,  5.9469e+00],\n",
       "        [ 1.1274e+01,  1.1326e+01,  4.6021e+00,  1.3792e-01,  4.1727e-01,\n",
       "         -2.4096e+00, -1.1397e+01, -3.1379e+00, -2.7817e+00,  9.8318e+00,\n",
       "          1.9987e+00, -4.3622e+00,  1.2501e+00,  3.1175e+00,  2.6876e-01,\n",
       "          1.2656e+01,  5.3042e+00,  1.6365e+00,  1.2775e+00,  9.7095e+00,\n",
       "          5.2258e+00,  4.9923e+00,  1.7293e+01, -7.4921e+00, -1.2518e+00,\n",
       "         -5.5311e+00,  2.6553e+00],\n",
       "        [ 1.7117e+00,  1.7304e+01,  5.2098e+00,  1.7702e+00, -9.9652e-01,\n",
       "          9.5717e+00, -8.6518e+00,  5.4038e+00, -1.9824e+00,  7.5927e+00,\n",
       "          3.9342e+00,  1.4853e+00,  6.1346e+00,  6.7363e+00, -2.5192e+00,\n",
       "          4.0183e+00,  8.6136e+00, -6.7834e-01,  5.0538e+00, -9.2021e-02,\n",
       "         -9.6233e+00, -2.8674e-02,  4.4248e+00, -9.9205e+00, -2.7568e+00,\n",
       "          2.8979e+00,  7.3821e+00],\n",
       "        [ 2.0229e+01,  1.1201e+01,  1.1862e+01,  4.0140e+00, -9.4930e+00,\n",
       "          1.6028e+00, -3.2555e+00,  7.7655e-01,  3.6079e+00,  9.3891e+00,\n",
       "         -5.9591e-01,  1.3533e+00,  3.0359e+00,  5.1890e+00,  1.1976e+01,\n",
       "          4.7932e+00,  6.2266e+00, -4.0880e-01, -2.1237e+00, -8.8377e+00,\n",
       "          8.4344e+00, -8.7083e-01,  1.1140e+01, -5.8986e+00, -9.8946e+00,\n",
       "          6.7287e+00, -9.4564e-01],\n",
       "        [ 3.6330e+00,  1.3344e+01,  5.3733e+00,  4.0964e+00, -6.7629e-01,\n",
       "          1.3352e+01, -1.7996e+01,  5.7657e+00, -3.6054e+00,  1.3435e+01,\n",
       "          6.8217e+00, -3.4204e+00, -1.7846e-01,  7.3026e+00,  1.5929e-01,\n",
       "          1.3369e+01,  3.7618e+00,  6.6885e+00, -7.2071e-01,  1.3247e+01,\n",
       "         -2.6216e+00,  4.6573e+00,  7.1206e+00, -6.5330e+00,  6.3406e+00,\n",
       "         -5.4540e+00,  5.9469e+00],\n",
       "        [ 8.8413e+00,  1.1023e+01, -2.1137e-01,  3.1002e+00,  3.1402e+00,\n",
       "          2.9660e+00, -1.4986e+01,  4.8951e+00, -3.0567e+00,  7.1494e+00,\n",
       "          4.7930e+00, -1.5850e+00,  6.1345e+00,  5.8764e+00,  9.1199e-01,\n",
       "          1.0918e+01,  3.1207e+00,  1.9757e+00,  2.3095e+00,  1.6610e+01,\n",
       "          1.8250e+00,  7.9644e+00,  7.4214e+00, -8.1647e+00,  4.8924e+00,\n",
       "         -7.9032e+00,  3.7677e+00],\n",
       "        [ 9.2070e+00,  1.5311e+01,  5.7713e+00,  1.5607e+00, -3.1436e+00,\n",
       "         -8.5657e-01, -3.6831e+00, -1.8833e+00, -5.2115e+00,  8.3382e+00,\n",
       "          2.6741e+00, -6.0592e+00,  8.8054e+00,  2.0140e+00, -2.0414e+00,\n",
       "          9.4985e+00,  5.1433e+00, -1.4945e+00,  2.5210e+00,  3.2494e+00,\n",
       "          2.3998e+00, -8.9633e-01,  7.9098e+00, -9.0840e+00, -3.6654e+00,\n",
       "         -2.0244e+00,  2.0580e+00],\n",
       "        [ 8.6510e+00,  1.0308e+01,  1.7223e+01, -1.2056e+00, -1.4732e+01,\n",
       "          5.5150e+00, -6.5348e+00,  6.5403e+00,  1.3126e+00,  9.5570e+00,\n",
       "          5.6039e-01,  5.5024e+00,  2.1439e+00,  6.2543e+00,  9.5461e+00,\n",
       "         -2.9029e+00,  6.7305e+00,  2.9613e+00,  8.1314e+00, -1.0526e+01,\n",
       "          2.2520e+00, -4.1560e+00,  7.6528e+00, -6.8335e+00, -7.5508e+00,\n",
       "          1.2559e+00, -7.9344e-01],\n",
       "        [-3.8444e+00, -1.2731e+00,  2.9239e+00, -2.8911e-01,  1.7256e+00,\n",
       "          1.8716e+01,  2.6231e-01,  1.1238e+01,  7.1914e+00, -1.9226e+00,\n",
       "          2.1131e-01,  4.6842e+00,  6.9807e-01, -4.0045e-01,  1.0047e+01,\n",
       "          2.7452e+00,  1.1860e+01,  5.9122e+00, -2.4223e+00, -3.6520e+00,\n",
       "         -1.0943e+01, -1.3059e+01,  7.8221e+00, -1.0052e+01, -7.0818e+00,\n",
       "          1.1508e+01, -5.1870e+00],\n",
       "        [-2.8794e+00, -3.0882e+00, -3.8099e+00, -1.0930e-01,  9.0877e+00,\n",
       "          8.1250e+00, -3.0879e+00, -7.6105e+00,  7.2682e+00, -2.2024e+00,\n",
       "          4.7122e+00,  7.0907e+00,  1.6128e+01,  2.6688e+00, -3.3090e+00,\n",
       "          6.2072e+00,  2.7883e+00, -4.5443e-01, -1.3292e-03, -4.7965e+00,\n",
       "         -3.4849e+00, -1.6962e+01, -1.5748e+00,  1.8213e+00, -6.8286e+00,\n",
       "          2.4559e-01, -4.0367e+00],\n",
       "        [-1.8331e+01,  4.8791e+00,  1.9627e+00,  6.9463e-01, -2.1016e+00,\n",
       "         -9.0303e+00, -1.0531e+00, -2.2924e+01,  1.2039e+00,  1.0660e+00,\n",
       "          3.3588e+00,  3.2296e+00,  1.1017e+01, -7.8716e+00, -2.5085e+00,\n",
       "         -4.4237e+00, -1.1516e+01, -1.1502e+01, -3.0880e+00, -9.9331e+00,\n",
       "         -9.0632e+00, -2.2104e+00, -7.5305e+00, -2.0343e+00, -3.2236e+00,\n",
       "         -5.6518e-01,  3.7917e+00],\n",
       "        [-1.0427e+01,  1.0813e+01, -5.7943e-01,  2.4732e+00,  2.7673e+00,\n",
       "         -6.7510e+00, -1.0157e+01, -1.9816e+01, -2.6669e+00,  4.5074e+00,\n",
       "          2.0859e-01, -7.5227e-01,  2.2571e-01, -8.5761e+00, -7.0873e+00,\n",
       "         -3.5145e+00, -1.9511e+01, -7.9402e+00,  2.4759e+00,  4.0212e+00,\n",
       "         -5.2944e+00, -1.8201e+00, -9.4398e+00,  2.1473e+00,  5.1413e-01,\n",
       "         -1.0609e+01,  3.0781e+00],\n",
       "        [ 1.5603e+01,  7.8319e+00,  6.1070e+00, -5.0072e-01,  1.8642e+00,\n",
       "         -2.0095e+00, -1.0541e+01, -8.9511e+00, -1.4761e+01,  6.7491e+00,\n",
       "          7.2280e+00,  8.2767e+00, -8.5099e+00, -3.9952e+00, -1.8434e+01,\n",
       "          2.6254e+00, -1.5532e+01, -7.9766e+00, -5.4206e+00,  3.8474e+00,\n",
       "          6.9465e+00,  8.0011e+00,  4.0975e+00,  5.3453e+00,  3.6828e+00,\n",
       "         -1.6613e+01, -2.1057e+00],\n",
       "        [ 3.6330e+00,  1.3344e+01,  5.3733e+00,  4.0964e+00, -6.7629e-01,\n",
       "          1.3352e+01, -1.7996e+01,  5.7657e+00, -3.6054e+00,  1.3435e+01,\n",
       "          6.8217e+00, -3.4204e+00, -1.7846e-01,  7.3026e+00,  1.5929e-01,\n",
       "          1.3369e+01,  3.7618e+00,  6.6885e+00, -7.2071e-01,  1.3247e+01,\n",
       "         -2.6216e+00,  4.6573e+00,  7.1206e+00, -6.5330e+00,  6.3406e+00,\n",
       "         -5.4540e+00,  5.9469e+00],\n",
       "        [ 6.6785e+00,  9.9440e+00,  9.5779e+00, -1.6822e+00, -2.6305e+00,\n",
       "         -2.1039e+00, -8.9080e+00, -2.6883e+00, -4.5239e+00,  6.5961e+00,\n",
       "          3.2272e+00, -7.7724e+00,  2.9060e+00,  1.2344e-01, -2.7488e+00,\n",
       "          1.6359e+01,  3.2232e+00,  2.6878e+00,  9.2665e-01,  1.0116e+01,\n",
       "          4.9472e+00,  3.9184e+00,  1.1481e+01, -1.0639e+01, -9.4463e-01,\n",
       "         -5.3804e+00,  2.6187e+00],\n",
       "        [-9.7419e+00,  5.5440e+00, -3.5973e+00, -2.5127e+00,  4.5032e+00,\n",
       "          5.8679e+00, -8.7387e-01,  9.0276e+00,  8.3902e+00, -2.9754e+00,\n",
       "         -2.1321e+00,  5.0983e+00,  1.0034e+01,  6.9775e+00,  5.7888e-01,\n",
       "          5.4752e+00,  1.7092e+01,  2.2305e+00,  1.1426e+00,  6.2057e+00,\n",
       "         -6.0658e+00, -6.2051e+00,  8.2224e-01, -8.1293e+00, -4.1036e-01,\n",
       "          3.3541e+00,  9.3331e+00],\n",
       "        [-7.8016e+00, -1.6280e+00, -2.3968e-02,  4.3102e+00, -1.6561e+00,\n",
       "          9.0811e-01, -1.5783e+00, -1.3326e+00,  1.2838e+01,  2.6166e+00,\n",
       "         -4.5653e+00,  4.6397e+00,  6.1908e+00, -2.5267e-01, -2.9353e+00,\n",
       "         -8.5837e+00, -3.5942e+00, -2.3311e+00, -3.5877e+00, -1.0034e+01,\n",
       "         -1.2724e+01, -7.3389e+00,  2.4764e+00,  3.6527e+00,  2.2530e+00,\n",
       "          3.6539e+00, -2.7374e-02],\n",
       "        [ 8.0595e+00,  7.1052e+00,  7.8858e+00, -1.5805e+00, -1.5204e+01,\n",
       "          3.3328e+00, -5.2055e+00, -1.2458e+01, -8.3771e+00,  1.6318e+01,\n",
       "          4.7546e+00,  7.9461e+00, -1.3622e+01,  3.9830e-01, -1.0925e+01,\n",
       "         -3.1337e+00, -1.5485e+01, -3.5530e+00, -2.9884e+00, -6.1853e+00,\n",
       "         -2.6471e+00, -2.3163e+00,  1.0556e+01,  2.5274e+00,  2.8419e+00,\n",
       "         -4.8371e+00, -1.2881e+01],\n",
       "        [ 4.7274e+00,  1.9250e+01,  1.8307e+00, -1.4689e+00, -8.8336e+00,\n",
       "          8.9677e+00, -2.5101e-01, -2.2383e+00,  3.6548e+00,  1.2131e+01,\n",
       "         -3.9476e+00,  2.8647e+00, -7.9446e+00, -2.9913e+00,  1.1538e+00,\n",
       "          1.9511e+00,  8.6503e+00,  7.7037e+00,  9.2765e+00,  1.0977e+01,\n",
       "         -3.6001e-01,  2.7962e+00,  1.0775e+01, -2.1181e+01,  1.3011e+00,\n",
       "          8.3645e+00,  1.0994e+00],\n",
       "        [ 1.6219e+01,  1.0160e+01,  7.9024e+00,  2.7378e+00, -6.6642e+00,\n",
       "          2.3547e+00, -9.7224e+00, -1.2504e+00, -1.4432e+00,  8.7420e+00,\n",
       "         -1.0673e+00, -1.5807e+00,  5.3881e+00,  9.4923e+00,  5.7991e+00,\n",
       "          5.7250e+00,  5.1392e+00, -8.4450e-01, -1.5009e+00,  1.8534e+00,\n",
       "          4.7702e+00,  4.0671e+00,  8.8514e+00, -2.6760e+00, -6.6942e+00,\n",
       "          9.7911e-01,  1.2176e+00]], grad_fn=<AddBackward0>)"
      ]
     },
     "execution_count": 87,
     "metadata": {},
     "output_type": "execute_result"
    }
   ],
   "source": [
    "logits"
   ]
  },
  {
   "cell_type": "code",
   "execution_count": null,
   "metadata": {},
   "outputs": [],
   "source": [
    "block_size = 3\n",
    "X, Y = [], []\n",
    "for w in words:\n",
    "    context = [0] * block_size\n",
    "    for ch in w + \".\":\n",
    "        ix = stoi[ch]\n",
    "        X.append(context)\n",
    "        Y.append(ix)\n",
    "        context = context[1:] + [ix]\n",
    "X = torch.tensor(X)\n",
    "Y = torch.tensor(Y)\n",
    "g = torch.Generator().manual_seed(2147483647)\n",
    "C = torch.randn((27,2),generator=g)\n",
    "W1 = torch.randn((6,100), generator=g)\n",
    "b1 = torch.randn(100,generator=g)\n",
    "W2 = torch.randn((100,27),generator=g)\n",
    "b2 = torch.randn(27,generator=g)\n",
    "parameters = [C, W1,b1,W2,b2]\n",
    "for p in parameters:\n",
    "    p.requires_grad = True"
   ]
  },
  {
   "cell_type": "code",
   "execution_count": null,
   "metadata": {},
   "outputs": [],
   "source": [
    "# lre = torch.linspace(-3,0,1000)\n",
    "# lrs = 10 **lre\n",
    "# lrs"
   ]
  },
  {
   "cell_type": "code",
   "execution_count": null,
   "metadata": {},
   "outputs": [],
   "source": [
    "# lri = []\n",
    "# lossi = []\n",
    "for i in range(100000):\n",
    "    # mini batch construct \n",
    "    ix = torch.randint(0,X.shape[0], (32,)) # select indexes to using in the mini batch via rand number\n",
    "\n",
    "    # forward pass\n",
    "    emb = C[X[ix]] # [32, 3, 2] not [200k,3,2] because of mini batch\n",
    "    h = torch.tanh(emb.view(-1,6) @ W1 + b1) # (32, 100)\n",
    "    logits = h @ W2 + b2 \n",
    "    loss = F.cross_entropy(logits,Y[ix])\n",
    "    # print(loss.item())\n",
    "    # backwoard pass\n",
    "    # set gradients to 0\n",
    "    for p in parameters:\n",
    "        p.grad = None\n",
    "    loss.backward() \n",
    "    # update \n",
    "    # lr = lrs[i]\n",
    "    # lr = 10**-1\n",
    "    lr = 10**-2 # learning rate decay\n",
    "    for p in parameters:\n",
    "        p.data += -lr * p.grad\n",
    "    # lri.append(lre[i])\n",
    "    # lossi.append(loss.item())\n",
    "# better to have an aproximate gradient and take many steps than have an exact gradient and take view steps"
   ]
  },
  {
   "cell_type": "code",
   "execution_count": null,
   "metadata": {},
   "outputs": [
    {
     "name": "stdout",
     "output_type": "stream",
     "text": [
      "2.2123119831085205\n"
     ]
    }
   ],
   "source": [
    "emb = C[X] # [32, 3, 2] not [200k,3,2] because of mini batch\n",
    "h = torch.tanh(emb.view(-1,6) @ W1 + b1) # (32, 100)\n",
    "logits = h @ W2 + b2 \n",
    "loss = F.cross_entropy(logits,Y)\n",
    "print(loss.item())"
   ]
  },
  {
   "cell_type": "code",
   "execution_count": null,
   "metadata": {},
   "outputs": [],
   "source": [
    "# plt.plot(lri,lossi)\n",
    "# shows a local min of around -1"
   ]
  },
  {
   "cell_type": "code",
   "execution_count": null,
   "metadata": {},
   "outputs": [],
   "source": [
    "# lower loss does not exactly mean a good model. As the size of the NN grows the more vulnerable it is to learning the training set.\n",
    "# we need to have a validation set (unseen) to make sure it's generalizing\n",
    "# 3 splits "
   ]
  },
  {
   "cell_type": "code",
   "execution_count": 127,
   "metadata": {},
   "outputs": [
    {
     "name": "stdout",
     "output_type": "stream",
     "text": [
      "torch.Size([182441, 4]) torch.Size([182441])\n",
      "torch.Size([22902, 4]) torch.Size([22902])\n",
      "torch.Size([22803, 4]) torch.Size([22803])\n"
     ]
    }
   ],
   "source": [
    "# training, test, validation\n",
    "# 80% ,10%, 10%\n",
    "def build_dataset(words):\n",
    "    block_size = 3\n",
    "    X, Y = [], []\n",
    "    for w in words:\n",
    "        context = [0] * block_size\n",
    "        for ch in w + \".\":\n",
    "            ix = stoi[ch]\n",
    "            X.append(context)\n",
    "            Y.append(ix)\n",
    "            context = context[1:] + [ix]\n",
    "    X = torch.tensor(X)\n",
    "    Y = torch.tensor(Y)\n",
    "    print(X.shape,Y.shape)\n",
    "    return(X,Y)\n",
    "import random\n",
    "random.seed(42)\n",
    "random.shuffle(words)\n",
    "n1 = int(0.8*len(words))\n",
    "n2 = int(0.9*len(words))\n",
    "\n",
    "Xtr, Ytr = build_dataset(words[:n1])\n",
    "Xdev, Ydev = build_dataset(words[n1:n2])\n",
    "Xte, Yte = build_dataset(words[n2:])"
   ]
  },
  {
   "cell_type": "code",
   "execution_count": 128,
   "metadata": {},
   "outputs": [],
   "source": [
    "C = torch.randn((27,2))\n",
    "g = torch.Generator().manual_seed(2147483647)\n",
    "C = torch.randn((27,2),generator=g)\n",
    "W1 = torch.randn((6,100), generator=g)\n",
    "b1 = torch.randn(100,generator=g)\n",
    "W2 = torch.randn((100,27),generator=g)\n",
    "b2 = torch.randn(27,generator=g)\n",
    "parameters = [C, W1,b1,W2,b2]\n",
    "for p in parameters:\n",
    "    p.requires_grad = True"
   ]
  },
  {
   "cell_type": "code",
   "execution_count": 129,
   "metadata": {},
   "outputs": [
    {
     "name": "stdout",
     "output_type": "stream",
     "text": [
      "torch.Size([32, 4, 2])\n",
      "torch.Size([32, 8])\n"
     ]
    },
    {
     "ename": "RuntimeError",
     "evalue": "mat1 and mat2 shapes cannot be multiplied (32x8 and 6x100)",
     "output_type": "error",
     "traceback": [
      "\u001b[0;31m---------------------------------------------------------------------------\u001b[0m",
      "\u001b[0;31mRuntimeError\u001b[0m                              Traceback (most recent call last)",
      "Cell \u001b[0;32mIn[129], line 9\u001b[0m\n\u001b[1;32m      7\u001b[0m \u001b[38;5;28mprint\u001b[39m(emb\u001b[38;5;241m.\u001b[39mshape)\n\u001b[1;32m      8\u001b[0m \u001b[38;5;28mprint\u001b[39m(emb\u001b[38;5;241m.\u001b[39mview(\u001b[38;5;241m-\u001b[39m\u001b[38;5;241m1\u001b[39m,\u001b[38;5;241m8\u001b[39m)\u001b[38;5;241m.\u001b[39mshape)\n\u001b[0;32m----> 9\u001b[0m h \u001b[38;5;241m=\u001b[39m torch\u001b[38;5;241m.\u001b[39mtanh(\u001b[43memb\u001b[49m\u001b[38;5;241;43m.\u001b[39;49m\u001b[43mview\u001b[49m\u001b[43m(\u001b[49m\u001b[38;5;241;43m-\u001b[39;49m\u001b[38;5;241;43m1\u001b[39;49m\u001b[43m,\u001b[49m\u001b[38;5;241;43m8\u001b[39;49m\u001b[43m)\u001b[49m\u001b[43m \u001b[49m\u001b[38;5;241;43m@\u001b[39;49m\u001b[43m \u001b[49m\u001b[43mW1\u001b[49m \u001b[38;5;241m+\u001b[39m b1) \u001b[38;5;66;03m# (32, 100)\u001b[39;00m\n\u001b[1;32m     10\u001b[0m logits \u001b[38;5;241m=\u001b[39m h \u001b[38;5;241m@\u001b[39m W2 \u001b[38;5;241m+\u001b[39m b2 \n\u001b[1;32m     11\u001b[0m loss \u001b[38;5;241m=\u001b[39m F\u001b[38;5;241m.\u001b[39mcross_entropy(logits,Ytr[ix])\n",
      "\u001b[0;31mRuntimeError\u001b[0m: mat1 and mat2 shapes cannot be multiplied (32x8 and 6x100)"
     ]
    }
   ],
   "source": [
    "for i in range(100000):\n",
    "    # mini batch construct \n",
    "    ix = torch.randint(0,Xtr.shape[0], (32,)) # select indexes to using in the mini batch via rand number\n",
    "\n",
    "    # forward pass\n",
    "    emb = C[Xtr[ix]] # [32, 3, 2] not [200k,3,2] because of mini batch\n",
    "    h = torch.tanh(emb.view(-1,6) @ W1 + b1) # (32, 100)\n",
    "    logits = h @ W2 + b2 \n",
    "    loss = F.cross_entropy(logits,Ytr[ix])\n",
    "    # print(loss.item())\n",
    "    # backwoard pass\n",
    "    # set gradients to 0\n",
    "    for p in parameters:\n",
    "        p.grad = None\n",
    "    loss.backward() \n",
    "    # update \n",
    "    lr = 10**-1 # learning rate decay\n",
    "    for p in parameters:\n",
    "        p.data += -lr * p.grad\n",
    "    # lri.append(lre[i])\n",
    "    # lossi.append(loss.item())\n",
    "# better to have an aproximate gradient and take many steps than have an exact gradient and take view steps"
   ]
  },
  {
   "cell_type": "code",
   "execution_count": null,
   "metadata": {},
   "outputs": [
    {
     "name": "stdout",
     "output_type": "stream",
     "text": [
      "2.8296210765838623\n"
     ]
    }
   ],
   "source": [
    "emb = C[Xtr] # [32, 3, 2] not [200k,3,2] because of mini batch\n",
    "h = torch.tanh(emb.view(-1,6) @ W1 + b1) # (32, 100)\n",
    "logits = h @ W2 + b2 \n",
    "loss = F.cross_entropy(logits,Ytr)\n",
    "print(loss.item())\n",
    "# https://youtu.be/TCH_1BHY58I?si=7BsQIgXMf7zG2uLu&t=3536"
   ]
  },
  {
   "cell_type": "code",
   "execution_count": 154,
   "metadata": {},
   "outputs": [
    {
     "name": "stdout",
     "output_type": "stream",
     "text": [
      "torch.Size([182534, 3]) torch.Size([182534])\n",
      "torch.Size([22873, 3]) torch.Size([22873])\n",
      "torch.Size([22739, 3]) torch.Size([22739])\n"
     ]
    },
    {
     "data": {
      "text/plain": [
       "17697"
      ]
     },
     "execution_count": 154,
     "metadata": {},
     "output_type": "execute_result"
    }
   ],
   "source": [
    "# training, test, validation\n",
    "# 80% ,10%, 10%\n",
    "def build_dataset(words):\n",
    "    block_size = 3\n",
    "    X, Y = [], []\n",
    "    for w in words:\n",
    "        context = [0] * block_size\n",
    "        for ch in w + \".\":\n",
    "            ix = stoi[ch]\n",
    "            X.append(context)\n",
    "            Y.append(ix)\n",
    "            context = context[1:] + [ix]\n",
    "    X = torch.tensor(X)\n",
    "    Y = torch.tensor(Y)\n",
    "    print(X.shape,Y.shape)\n",
    "    return(X,Y)\n",
    "import random\n",
    "random.seed(42)\n",
    "random.shuffle(words)\n",
    "n1 = int(0.8*len(words))\n",
    "n2 = int(0.9*len(words))\n",
    "\n",
    "Xtr, Ytr = build_dataset(words[:n1])\n",
    "Xdev, Ydev = build_dataset(words[n1:n2])\n",
    "Xte, Yte = build_dataset(words[n2:])\n",
    "# increase the hidden layer size\n",
    "g = torch.Generator().manual_seed(2147483647)\n",
    "C = torch.randn((27,10),generator=g)\n",
    "W1 = torch.randn((30,300), generator=g) # 3 x 10 trigram\n",
    "b1 = torch.randn(300,generator=g)\n",
    "W2 = torch.randn((300,27),generator=g)\n",
    "b2 = torch.randn(27,generator=g)\n",
    "parameters = [C, W1,b1,W2,b2]\n",
    "for p in parameters:\n",
    "    p.requires_grad = True\n",
    "\n",
    "sum(p.nelement() for p in parameters)"
   ]
  },
  {
   "cell_type": "code",
   "execution_count": 155,
   "metadata": {},
   "outputs": [],
   "source": [
    "lri = []\n",
    "lossi = []\n",
    "stepi = []"
   ]
  },
  {
   "cell_type": "code",
   "execution_count": 156,
   "metadata": {},
   "outputs": [],
   "source": [
    "\n",
    "for i in range(50000):\n",
    "    # mini batch construct \n",
    "    ix = torch.randint(0,Xtr.shape[0], (64,)) # select indexes to using in the mini batch via rand number\n",
    "\n",
    "    # forward pass\n",
    "    emb = C[Xtr[ix]] # [32, 3, 2] not [200k,3,2] because of mini batch\n",
    "    h = torch.tanh(emb.view(-1,30) @ W1 + b1) # (32, 100)\n",
    "    logits = h @ W2 + b2 \n",
    "    loss = F.cross_entropy(logits,Ytr[ix])\n",
    "    # print(loss.item())\n",
    "    # backwoard pass\n",
    "    # set gradients to 0\n",
    "    for p in parameters:\n",
    "        p.grad = None\n",
    "    loss.backward() \n",
    "    # update \n",
    "    lr = 0.001 # learning rate decay\n",
    "    for p in parameters:\n",
    "        p.data += -lr * p.grad\n",
    "    stepi.append(i)\n",
    "    lossi.append(loss.log10().item())\n",
    "# better to have an aproximate gradient and take many steps than have an exact gradient and take view steps"
   ]
  },
  {
   "cell_type": "code",
   "execution_count": 107,
   "metadata": {},
   "outputs": [
    {
     "data": {
      "text/plain": [
       "[<matplotlib.lines.Line2D at 0x292faf800>]"
      ]
     },
     "execution_count": 107,
     "metadata": {},
     "output_type": "execute_result"
    },
    {
     "data": {
      "image/png": "[encoded data removed]",
      "text/plain": [
       "<Figure size 640x480 with 1 Axes>"
      ]
     },
     "metadata": {},
     "output_type": "display_data"
    }
   ],
   "source": [
    "plt.plot(stepi,lossi)"
   ]
  },
  {
   "cell_type": "code",
   "execution_count": 108,
   "metadata": {},
   "outputs": [
    {
     "name": "stdout",
     "output_type": "stream",
     "text": [
      "2.108023166656494\n"
     ]
    }
   ],
   "source": [
    "emb = C[Xtr] # [32, 3, 2] not [200k,3,2] because of mini batch\n",
    "h = torch.tanh(emb.view(-1,30) @ W1 + b1) # (32, 100)\n",
    "logits = h @ W2 + b2 \n",
    "loss = F.cross_entropy(logits,Ytr)\n",
    "print(loss.item())"
   ]
  },
  {
   "cell_type": "code",
   "execution_count": 109,
   "metadata": {},
   "outputs": [
    {
     "name": "stdout",
     "output_type": "stream",
     "text": [
      "2.159442186355591\n"
     ]
    }
   ],
   "source": [
    "emb = C[Xdev] # [32, 3, 2] not [200k,3,2] because of mini batch\n",
    "h = torch.tanh(emb.view(-1,30) @ W1 + b1) # (32, 100)\n",
    "logits = h @ W2 + b2 \n",
    "loss = F.cross_entropy(logits,Ydev)\n",
    "print(loss.item())"
   ]
  },
  {
   "cell_type": "code",
   "execution_count": 101,
   "metadata": {},
   "outputs": [
    {
     "data": {
      "image/png": "[encoded data removed]",
      "text/plain": [
       "<Figure size 800x800 with 1 Axes>"
      ]
     },
     "metadata": {},
     "output_type": "display_data"
    }
   ],
   "source": [
    "plt.figure(figsize=(8,8))\n",
    "plt.scatter(C[:,0].data,C[:,1].data, s=200)\n",
    "for i in range(C.shape[0]):\n",
    "    plt.text(C[i,0].item(), C[i,1].item(),itos[i],ha=\"center\", va=\"center\",color=\"white\")\n",
    "plt.grid(\"minor\")"
   ]
  },
  {
   "cell_type": "code",
   "execution_count": 158,
   "metadata": {},
   "outputs": [
    {
     "name": "stdout",
     "output_type": "stream",
     "text": [
      "exionn.\n",
      "lun.\n",
      "briani.\n",
      "sis.\n",
      "tzzilynlesian.\n",
      "colamarta.\n",
      "ttvalen.\n",
      "ritmajon.\n",
      "kill.\n",
      "keoui.\n",
      "corie.\n",
      "ysbaa.\n",
      "moloanroty.\n",
      "mattaylieson.\n",
      "arkin.\n",
      "doula.\n",
      "kaireilahia.\n",
      "gian.\n",
      "har.\n",
      "teom.\n"
     ]
    }
   ],
   "source": [
    "# sample from the model\n",
    "g = torch.Generator().manual_seed(214748347 + 10)\n",
    "\n",
    "for _ in range(20):\n",
    "    out = []\n",
    "    context = [0] * block_size\n",
    "    while True:\n",
    "        emb = C[torch.tensor([context])]\n",
    "        h = torch.tanh(emb.view(1,-1) @ W1 + b1)\n",
    "        logits = h @ W2 + b2\n",
    "        probs = F.softmax(logits,dim=1)\n",
    "        ix = torch.multinomial(probs, num_samples=1, generator=g).item()\n",
    "        context = context[1:] + [ix]\n",
    "        out.append(ix)\n",
    "        if ix == 0:\n",
    "            break\n",
    "    print(\"\".join(itos[i] for i in out))"
   ]
  },
  {
   "cell_type": "code",
   "execution_count": null,
   "metadata": {},
   "outputs": [],
   "source": []
  }
 ],
 "metadata": {
  "kernelspec": {
   "display_name": "makemore",
   "language": "python",
   "name": "python3"
  },
  "language_info": {
   "codemirror_mode": {
    "name": "ipython",
    "version": 3
   },
   "file_extension": ".py",
   "mimetype": "text/x-python",
   "name": "python",
   "nbconvert_exporter": "python",
   "pygments_lexer": "ipython3",
   "version": "3.12.0"
  }
 },
 "nbformat": 4,
 "nbformat_minor": 2
}
