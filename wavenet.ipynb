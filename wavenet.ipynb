{
 "cells": [
  {
   "cell_type": "code",
   "execution_count": 1,
   "metadata": {},
   "outputs": [],
   "source": [
    "import torch\n",
    "import torch.nn.functional as F\n",
    "import matplotlib.pyplot as plt # for making figures\n",
    "%matplotlib inline"
   ]
  },
  {
   "cell_type": "code",
   "execution_count": 2,
   "metadata": {},
   "outputs": [
    {
     "name": "stdout",
     "output_type": "stream",
     "text": [
      "32033\n",
      "15\n",
      "['emma', 'olivia', 'ava', 'isabella', 'sophia', 'charlotte', 'mia', 'amelia']\n"
     ]
    }
   ],
   "source": [
    "# read in all the words\n",
    "words = open('names.txt', 'r').read().splitlines()\n",
    "print(len(words))\n",
    "print(max(len(w) for w in words))\n",
    "print(words[:8])"
   ]
  },
  {
   "cell_type": "code",
   "execution_count": 3,
   "metadata": {},
   "outputs": [
    {
     "name": "stdout",
     "output_type": "stream",
     "text": [
      "{1: 'a', 2: 'b', 3: 'c', 4: 'd', 5: 'e', 6: 'f', 7: 'g', 8: 'h', 9: 'i', 10: 'j', 11: 'k', 12: 'l', 13: 'm', 14: 'n', 15: 'o', 16: 'p', 17: 'q', 18: 'r', 19: 's', 20: 't', 21: 'u', 22: 'v', 23: 'w', 24: 'x', 25: 'y', 26: 'z', 0: '.'}\n",
      "27\n"
     ]
    }
   ],
   "source": [
    "# build the vocabulary of characters and mappings to/from integers\n",
    "chars = sorted(list(set(''.join(words))))\n",
    "stoi = {s:i+1 for i,s in enumerate(chars)}\n",
    "stoi['.'] = 0\n",
    "itos = {i:s for s,i in stoi.items()}\n",
    "vocab_size = len(itos)\n",
    "print(itos)\n",
    "print(vocab_size)"
   ]
  },
  {
   "cell_type": "code",
   "execution_count": 4,
   "metadata": {},
   "outputs": [],
   "source": [
    "# shuffle up the words\n",
    "import random\n",
    "random.seed(42)\n",
    "random.shuffle(words)"
   ]
  },
  {
   "cell_type": "code",
   "execution_count": 5,
   "metadata": {},
   "outputs": [
    {
     "name": "stdout",
     "output_type": "stream",
     "text": [
      "torch.Size([182625, 8]) torch.Size([182625])\n",
      "torch.Size([22655, 8]) torch.Size([22655])\n",
      "torch.Size([22866, 8]) torch.Size([22866])\n"
     ]
    }
   ],
   "source": [
    "# build the dataset\n",
    "block_size = 8 # context length: how many characters do we take to predict the next one?\n",
    "\n",
    "def build_dataset(words):  \n",
    "  X, Y = [], []\n",
    "  \n",
    "  for w in words:\n",
    "    context = [0] * block_size\n",
    "    for ch in w + '.':\n",
    "      ix = stoi[ch]\n",
    "      X.append(context)\n",
    "      Y.append(ix)\n",
    "      context = context[1:] + [ix] # crop and append\n",
    "\n",
    "  X = torch.tensor(X)\n",
    "  Y = torch.tensor(Y)\n",
    "  print(X.shape, Y.shape)\n",
    "  return X, Y\n",
    "\n",
    "n1 = int(0.8*len(words))\n",
    "n2 = int(0.9*len(words))\n",
    "Xtr,  Ytr  = build_dataset(words[:n1])     # 80%\n",
    "Xdev, Ydev = build_dataset(words[n1:n2])   # 10%\n",
    "Xte,  Yte  = build_dataset(words[n2:])     # 10%"
   ]
  },
  {
   "cell_type": "code",
   "execution_count": 6,
   "metadata": {},
   "outputs": [
    {
     "name": "stdout",
     "output_type": "stream",
     "text": [
      "........ --> y\n",
      ".......y --> u\n",
      "......yu --> h\n",
      ".....yuh --> e\n",
      "....yuhe --> n\n",
      "...yuhen --> g\n",
      "..yuheng --> .\n",
      "........ --> d\n",
      ".......d --> i\n",
      "......di --> o\n",
      ".....dio --> n\n",
      "....dion --> d\n",
      "...diond --> r\n",
      "..diondr --> e\n",
      ".diondre --> .\n",
      "........ --> x\n",
      ".......x --> a\n",
      "......xa --> v\n",
      ".....xav --> i\n",
      "....xavi --> e\n"
     ]
    }
   ],
   "source": [
    "for x,y in zip(Xtr[:20], Ytr[:20]):\n",
    "  print(''.join(itos[ix.item()] for ix in x), '-->', itos[y.item()])"
   ]
  },
  {
   "cell_type": "code",
   "execution_count": 7,
   "metadata": {},
   "outputs": [],
   "source": [
    "class Linear:\n",
    "    def __init__(self, fan_in, fan_out, bias=True) -> None:\n",
    "        self.weight = torch.randn((fan_in, fan_out)) / fan_in **0.5\n",
    "        self.bias = torch.zeros(fan_out) if bias else None\n",
    "    \n",
    "    def __call__(self, x):\n",
    "        self.out = x @ self.weight\n",
    "        if self.bias is not None:\n",
    "            self.out += self.bias\n",
    "        return self.out\n",
    "    def parameters(self):\n",
    "        return [self.weight] + ([] if self.bias is None else [self.bias])\n",
    "\n",
    "class BatchNorm1d:\n",
    "    def __init__(self, dim , eps=1e-5, momentum=0.1) -> None:\n",
    "        self.eps = eps\n",
    "        self.momentum = momentum\n",
    "        self.training = True\n",
    "        self.gamma = torch.zeros(dim)\n",
    "        self.beta = torch.zeros(dim)\n",
    "        self.running_mean = torch.zeros(dim)\n",
    "        self.running_var= torch.ones(dim)\n",
    "    \n",
    "    def __call__(self, x):\n",
    "        if self.training:\n",
    "            if x.ndim == 2:\n",
    "                dim = 0\n",
    "            elif x.dim == 3:\n",
    "                dim = (0,1)\n",
    "            xmean = self.running_mean\n",
    "            xvar = self.running_var\n",
    "        else:\n",
    "            xmean = self.running_mean\n",
    "            xvar = self.running_var\n",
    "        xhat = (x - xmean) / torch.sqrt(xvar + self.eps)\n",
    "        self.out = self.gamma * xhat + self.beta\n",
    "        if self.training:\n",
    "            with torch.no_grad():\n",
    "                self.running_mean = (1 - self.momentum) *self.running_mean + self.momentum * xmean\n",
    "                self.running_var = (1 - self.momentum) *self.running_var + self.momentum * xvar\n",
    "        return self.out\n",
    "                \n",
    "    def parameters(self):\n",
    "        return [self.gamma, self.beta]\n",
    "\n",
    "class Tanh:\n",
    "    def __call__(self,x):\n",
    "        self.out = torch.tanh(x)\n",
    "        return self.out\n",
    "    def parameters(self):\n",
    "        return []\n",
    "\n",
    "class Embedding:\n",
    "    def __init__(self, num_embeddings, embedding_dim) :\n",
    "        self.weight = torch.randn((num_embeddings, embedding_dim))\n",
    "\n",
    "    def __call__(self, IX):\n",
    "        self.out = self.weight[IX]\n",
    "        return self.out\n",
    "    \n",
    "    def parameters(self):\n",
    "        return [self.weight]\n",
    "\n",
    "class FlattenConsecutive:\n",
    "    def __init__(self,n):\n",
    "        self.n = n\n",
    "    def __call__(self, x):\n",
    "        B,T,C = x.shape\n",
    "        x = x.view(B, T//self.n, C*self.n)\n",
    "        if x.shape[1] == 1:\n",
    "            x = x.squeeze(1)\n",
    "        self.out = x\n",
    "        return self.out\n",
    "    \n",
    "    def parameters(self):\n",
    "        return []\n",
    "\n",
    "class Sequential:\n",
    "  \n",
    "  def __init__(self, layers):\n",
    "    self.layers = layers\n",
    "  \n",
    "  def __call__(self, x):\n",
    "    for layer in self.layers:\n",
    "      x = layer(x)\n",
    "    self.out = x\n",
    "    return self.out\n",
    "  \n",
    "  def parameters(self):\n",
    "    # get parameters of all layers and stretch them out into one list\n",
    "    return [p for layer in self.layers for p in layer.parameters()]"
   ]
  },
  {
   "cell_type": "code",
   "execution_count": 8,
   "metadata": {},
   "outputs": [
    {
     "name": "stdout",
     "output_type": "stream",
     "text": [
      "76579\n"
     ]
    }
   ],
   "source": [
    "n_embd = 24 # the dimensionality of the character embedding vectors\n",
    "n_hidden = 128 # the number of neurons in the hidden layer of the MLP\n",
    "model = Sequential([\n",
    "  Embedding(vocab_size, n_embd),\n",
    "  FlattenConsecutive(2), Linear(n_embd * 2, n_hidden, bias=False), BatchNorm1d(n_hidden), Tanh(),\n",
    "  FlattenConsecutive(2), Linear(n_hidden*2, n_hidden, bias=False), BatchNorm1d(n_hidden), Tanh(),\n",
    "  FlattenConsecutive(2), Linear(n_hidden*2, n_hidden, bias=False), BatchNorm1d(n_hidden), Tanh(),\n",
    "  Linear(n_hidden, vocab_size),\n",
    "])\n",
    "\n",
    "# parameter init\n",
    "with torch.no_grad():\n",
    "  model.layers[-1].weight *= 0.1 # last layer make less confident\n",
    "\n",
    "parameters = model.parameters()\n",
    "print(sum(p.nelement() for p in parameters)) # number of parameters in total\n",
    "for p in parameters:\n",
    "  p.requires_grad = True"
   ]
  },
  {
   "cell_type": "code",
   "execution_count": 43,
   "metadata": {},
   "outputs": [
    {
     "name": "stdout",
     "output_type": "stream",
     "text": [
      "      0/ 200000: 2.9728\n",
      "  10000/ 200000: 2.7795\n",
      "  20000/ 200000: 2.8603\n",
      "  30000/ 200000: 2.9628\n",
      "  40000/ 200000: 3.0743\n",
      "  50000/ 200000: 2.7193\n",
      "  60000/ 200000: 2.9193\n",
      "  70000/ 200000: 2.4736\n",
      "  80000/ 200000: 2.7733\n",
      "  90000/ 200000: 2.8716\n",
      " 100000/ 200000: 2.7513\n",
      " 110000/ 200000: 2.8044\n",
      " 120000/ 200000: 2.9263\n",
      " 130000/ 200000: 2.8200\n",
      " 140000/ 200000: 3.0963\n",
      " 150000/ 200000: 2.7577\n",
      " 160000/ 200000: 2.6374\n",
      " 170000/ 200000: 2.8348\n",
      " 180000/ 200000: 3.0382\n",
      " 190000/ 200000: 2.8977\n"
     ]
    }
   ],
   "source": [
    "max_steps = 200000\n",
    "batch_size = 32\n",
    "lossi = []\n",
    "\n",
    "for i in range(max_steps):\n",
    "  \n",
    "  # minibatch construct\n",
    "  ix = torch.randint(0, Xtr.shape[0], (batch_size,))\n",
    "  Xb, Yb = Xtr[ix], Ytr[ix] # batch X,Y\n",
    "  \n",
    "  # forward pass\n",
    "  logits = model(Xb)\n",
    "  loss = F.cross_entropy(logits, Yb) # loss function\n",
    "  \n",
    "  # backward pass\n",
    "  for p in parameters:\n",
    "    p.grad = None\n",
    "  loss.backward()\n",
    "  \n",
    "  # update: simple SGD\n",
    "  lr = 0.1 if i < 150000 else 0.01 # step learning rate decay\n",
    "  for p in parameters:\n",
    "    p.data += -lr * p.grad\n",
    "\n",
    "  # track stats\n",
    "  if i % 10000 == 0: # print every once in a while\n",
    "    print(f'{i:7d}/{max_steps:7d}: {loss.item():.4f}')\n",
    "  lossi.append(loss.log10().item())"
   ]
  },
  {
   "cell_type": "code",
   "execution_count": 10,
   "metadata": {},
   "outputs": [
    {
     "data": {
      "text/plain": [
       "[<matplotlib.lines.Line2D at 0x143191940>]"
      ]
     },
     "execution_count": 10,
     "metadata": {},
     "output_type": "execute_result"
    },
    {
     "data": {
      "image/png": "[encoded data removed]",
      "text/plain": [
       "<Figure size 640x480 with 1 Axes>"
      ]
     },
     "metadata": {},
     "output_type": "display_data"
    }
   ],
   "source": [
    "plt.plot(torch.tensor(lossi).view(-1, 1000).mean(1))"
   ]
  },
  {
   "cell_type": "code",
   "execution_count": 11,
   "metadata": {},
   "outputs": [],
   "source": [
    "# put layers into eval mode (needed for batchnorm especially)\n",
    "for layer in model.layers:\n",
    "  layer.training = False"
   ]
  },
  {
   "cell_type": "code",
   "execution_count": 12,
   "metadata": {},
   "outputs": [
    {
     "name": "stdout",
     "output_type": "stream",
     "text": [
      "train 2.8227264881134033\n",
      "val 2.8211045265197754\n"
     ]
    }
   ],
   "source": [
    "# evaluate the loss\n",
    "@torch.no_grad() # this decorator disables gradient tracking inside pytorch\n",
    "def split_loss(split):\n",
    "  x,y = {\n",
    "    'train': (Xtr, Ytr),\n",
    "    'val': (Xdev, Ydev),\n",
    "    'test': (Xte, Yte),\n",
    "  }[split]\n",
    "  logits = model(x)\n",
    "  loss = F.cross_entropy(logits, y)\n",
    "  print(split, loss.item())\n",
    "\n",
    "split_loss('train')\n",
    "split_loss('val')"
   ]
  },
  {
   "cell_type": "code",
   "execution_count": 13,
   "metadata": {},
   "outputs": [
    {
     "name": "stdout",
     "output_type": "stream",
     "text": [
      "nynma.\n",
      "smehu.\n",
      "yearnrimeurnyunislal.\n",
      "oaeyilgrn.\n",
      "yiehgnamlioaa.\n",
      "oak.\n",
      "trrr.\n",
      "h.\n",
      "auonpe.\n",
      "eiha.\n",
      "nsbuor.\n",
      "e.\n",
      "la.\n",
      "seisjazita.\n",
      "cnhaaay.\n",
      ".\n",
      ".\n",
      "nenre.\n",
      "mt.\n",
      "amrn.\n"
     ]
    }
   ],
   "source": [
    "# sample from the model\n",
    "for _ in range(20):\n",
    "    \n",
    "    out = []\n",
    "    context = [0] * block_size # initialize with all ...\n",
    "    while True:\n",
    "      # forward pass the neural net\n",
    "      logits = model(torch.tensor([context]))\n",
    "      probs = F.softmax(logits, dim=1)\n",
    "      # sample from the distribution\n",
    "      ix = torch.multinomial(probs, num_samples=1).item()\n",
    "      # shift the context window and track the samples\n",
    "      context = context[1:] + [ix]\n",
    "      out.append(ix)\n",
    "      # if we sample the special '.' token, break\n",
    "      if ix == 0:\n",
    "        break\n",
    "    \n",
    "    print(''.join(itos[i] for i in out)) # decode and print the generated word"
   ]
  },
  {
   "cell_type": "code",
   "execution_count": 30,
   "metadata": {},
   "outputs": [
    {
     "data": {
      "text/plain": [
       "tensor([[ 2.3456, -0.3473, -1.2470, -0.8071],\n",
       "        [ 2.3456, -0.3473, -1.2470, -0.8071],\n",
       "        [ 0.7122, -0.8410,  0.5144,  0.5795]])"
      ]
     },
     "execution_count": 30,
     "metadata": {},
     "output_type": "execute_result"
    }
   ],
   "source": [
    "torch.tensor(\n",
    "    [\n",
    "        \n",
    "            [\n",
    "            [ 2.3456, -0.3473, -1.2470, -0.8071]\n",
    "            ],\n",
    "            [\n",
    "            [ 2.3456, -0.3473, -1.2470, -0.8071]\n",
    "            ], \n",
    "    \n",
    "            [\n",
    "            [ 0.7122, -0.8410,  0.5144,  0.5795]\n",
    "            ]\n",
    "        \n",
    "         ]\n",
    "         ).squeeze()"
   ]
  },
  {
   "cell_type": "code",
   "execution_count": 41,
   "metadata": {},
   "outputs": [
    {
     "name": "stdout",
     "output_type": "stream",
     "text": [
      "[\n",
      "        [\n",
      "                [\n",
      "                        2.345599889755249,\n",
      "                        -0.3472999930381775,\n",
      "                        -1.246999979019165,\n",
      "                        -0.8070999979972839\n",
      "                ],\n",
      "                [\n",
      "                        2.345599889755249,\n",
      "                        -0.3472999930381775,\n",
      "                        -1.246999979019165,\n",
      "                        -0.8070999979972839\n",
      "                ],\n",
      "                [\n",
      "                        0.7121999859809875,\n",
      "                        -0.8410000205039978,\n",
      "                        0.5144000053405762,\n",
      "                        0.5795000195503235\n",
      "                ]\n",
      "        ],\n",
      "        [\n",
      "                [\n",
      "                        2.345599889755249,\n",
      "                        -0.3472999930381775,\n",
      "                        -1.246999979019165,\n",
      "                        -0.8070999979972839\n",
      "                ],\n",
      "                [\n",
      "                        2.345599889755249,\n",
      "                        -0.3472999930381775,\n",
      "                        -1.246999979019165,\n",
      "                        -0.8070999979972839\n",
      "                ],\n",
      "                [\n",
      "                        0.7121999859809875,\n",
      "                        -0.8410000205039978,\n",
      "                        0.5144000053405762,\n",
      "                        0.5795000195503235\n",
      "                ]\n",
      "        ]\n",
      "]\n"
     ]
    }
   ],
   "source": [
    "import json\n",
    "print(json.dumps(torch.tensor([\n",
    "    [\n",
    "    [ 2.3456, -0.3473, -1.2470, -0.8071],\n",
    "    [ 2.3456, -0.3473, -1.2470, -0.8071],\n",
    "    [ 0.7122, -0.8410,  0.5144,  0.5795]\n",
    "    ],    [\n",
    "    [ 2.3456, -0.3473, -1.2470, -0.8071],\n",
    "    [ 2.3456, -0.3473, -1.2470, -0.8071],\n",
    "    [ 0.7122, -0.8410,  0.5144,  0.5795]\n",
    "    ],]\n",
    "        ).tolist(),indent=8))"
   ]
  },
  {
   "cell_type": "code",
   "execution_count": 42,
   "metadata": {},
   "outputs": [
    {
     "name": "stdout",
     "output_type": "stream",
     "text": [
      "[\n",
      "        [\n",
      "                [\n",
      "                        2.345599889755249,\n",
      "                        -0.3472999930381775,\n",
      "                        -1.246999979019165,\n",
      "                        -0.8070999979972839\n",
      "                ],\n",
      "                [\n",
      "                        2.345599889755249,\n",
      "                        -0.3472999930381775,\n",
      "                        -1.246999979019165,\n",
      "                        -0.8070999979972839\n",
      "                ],\n",
      "                [\n",
      "                        0.7121999859809875,\n",
      "                        -0.8410000205039978,\n",
      "                        0.5144000053405762,\n",
      "                        0.5795000195503235\n",
      "                ]\n",
      "        ],\n",
      "        [\n",
      "                [\n",
      "                        2.345599889755249,\n",
      "                        -0.3472999930381775,\n",
      "                        -1.246999979019165,\n",
      "                        -0.8070999979972839\n",
      "                ],\n",
      "                [\n",
      "                        2.345599889755249,\n",
      "                        -0.3472999930381775,\n",
      "                        -1.246999979019165,\n",
      "                        -0.8070999979972839\n",
      "                ],\n",
      "                [\n",
      "                        0.7121999859809875,\n",
      "                        -0.8410000205039978,\n",
      "                        0.5144000053405762,\n",
      "                        0.5795000195503235\n",
      "                ]\n",
      "        ]\n",
      "]\n"
     ]
    }
   ],
   "source": [
    "def pretty_print_tensor(tensor):\n",
    "    \"\"\"\n",
    "    Function to convert a PyTorch tensor to a pretty-printed JSON format.\n",
    "    \n",
    "    Args:\n",
    "    tensor (torch.Tensor): A PyTorch tensor to be converted.\n",
    "    \n",
    "    Returns:\n",
    "    str: A string containing the JSON representation of the tensor.\n",
    "    \"\"\"\n",
    "    # Convert the tensor to a list\n",
    "    tensor_list = tensor.tolist()\n",
    "\n",
    "    # Convert the list to a JSON string with indentation for better readability\n",
    "    return json.dumps(tensor_list, indent=8)\n",
    "print(pretty_print_tensor(torch.tensor([\n",
    "    [\n",
    "    [ 2.3456, -0.3473, -1.2470, -0.8071],\n",
    "    [ 2.3456, -0.3473, -1.2470, -0.8071],\n",
    "    [ 0.7122, -0.8410,  0.5144,  0.5795]\n",
    "    ],    [\n",
    "    [ 2.3456, -0.3473, -1.2470, -0.8071],\n",
    "    [ 2.3456, -0.3473, -1.2470, -0.8071],\n",
    "    [ 0.7122, -0.8410,  0.5144,  0.5795]\n",
    "    ],]\n",
    "        )))"
   ]
  },
  {
   "cell_type": "code",
   "execution_count": null,
   "metadata": {},
   "outputs": [],
   "source": []
  }
 ],
 "metadata": {
  "kernelspec": {
   "display_name": "makemore",
   "language": "python",
   "name": "python3"
  },
  "language_info": {
   "codemirror_mode": {
    "name": "ipython",
    "version": 3
   },
   "file_extension": ".py",
   "mimetype": "text/x-python",
   "name": "python",
   "nbconvert_exporter": "python",
   "pygments_lexer": "ipython3",
   "version": "3.9.18"
  }
 },
 "nbformat": 4,
 "nbformat_minor": 2
}
